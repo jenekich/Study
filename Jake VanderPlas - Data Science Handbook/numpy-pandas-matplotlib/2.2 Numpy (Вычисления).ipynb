{
 "cells": [
  {
   "cell_type": "code",
   "execution_count": 1,
   "metadata": {},
   "outputs": [],
   "source": [
    "import numpy as np"
   ]
  },
  {
   "cell_type": "code",
   "execution_count": 2,
   "metadata": {},
   "outputs": [],
   "source": [
    "np.random.seed(0)"
   ]
  },
  {
   "cell_type": "code",
   "execution_count": 3,
   "metadata": {},
   "outputs": [
    {
     "data": {
      "text/plain": [
       "array([0.16666667, 1.        , 0.25      , 0.25      , 0.125     ,\n",
       "       0.25      , 0.16666667, 0.33333333, 0.2       , 0.125     ])"
      ]
     },
     "execution_count": 3,
     "metadata": {},
     "output_type": "execute_result"
    }
   ],
   "source": [
    "# Стандартная обработка масссива\n",
    "def compute_reciprocals(values):    \n",
    "    output = np.empty(len(values))    \n",
    "    for i in range(len(values)):\n",
    "        output[i] = 1.0 / values[i]\n",
    "    return output\n",
    "\n",
    "values = np.random.randint(1, 10, size=10)\n",
    "compute_reciprocals(values)"
   ]
  },
  {
   "cell_type": "code",
   "execution_count": 4,
   "metadata": {},
   "outputs": [
    {
     "name": "stdout",
     "output_type": "stream",
     "text": [
      "3.64 s ± 50.2 ms per loop (mean ± std. dev. of 7 runs, 1 loop each)\n"
     ]
    }
   ],
   "source": [
    "# Работают медленно (т.к. при каждой операции деления CPython проверяет тип объекта\n",
    "# и выполняет динамический поиск подходящей функции. В отличии от компилируемых языков,\n",
    "# где тип известен заранее.)\n",
    "big_values = np.random.randint(1, 100, size=1000000)\n",
    "%timeit compute_reciprocals(big_values)"
   ]
  },
  {
   "cell_type": "markdown",
   "metadata": {},
   "source": [
    "# Векторизованные операции(Универсальные функции)(Py_WP p.79)"
   ]
  },
  {
   "cell_type": "code",
   "execution_count": 5,
   "metadata": {},
   "outputs": [
    {
     "name": "stdout",
     "output_type": "stream",
     "text": [
      "[0.16666667 1.         0.25       0.25       0.125      0.25\n",
      " 0.16666667 0.33333333 0.2        0.125     ]\n",
      "[0.16666667 1.         0.25       0.25       0.125      0.25\n",
      " 0.16666667 0.33333333 0.2        0.125     ]\n"
     ]
    }
   ],
   "source": [
    "print(compute_reciprocals(values))\n",
    "print(1.0 / values)  # Векторизованная операция (удобный интерфейс для компилируемой процедуры со статической типизацией)"
   ]
  },
  {
   "cell_type": "code",
   "execution_count": 6,
   "metadata": {},
   "outputs": [
    {
     "name": "stdout",
     "output_type": "stream",
     "text": [
      "10.2 ms ± 121 µs per loop (mean ± std. dev. of 7 runs, 100 loops each)\n"
     ]
    }
   ],
   "source": [
    "%timeit (1.0 / big_values)"
   ]
  },
  {
   "cell_type": "code",
   "execution_count": 7,
   "metadata": {},
   "outputs": [
    {
     "data": {
      "text/plain": [
       "array([0.        , 0.5       , 0.66666667, 0.75      , 0.8       ])"
      ]
     },
     "execution_count": 7,
     "metadata": {},
     "output_type": "execute_result"
    }
   ],
   "source": [
    "np.arange(5) / np.arange(1, 6) # С помощью универсальных функций(ufunc) можно выполнять операции над двумя массивами"
   ]
  },
  {
   "cell_type": "code",
   "execution_count": 8,
   "metadata": {},
   "outputs": [
    {
     "data": {
      "text/plain": [
       "array([[  1,   2,   4],\n",
       "       [  8,  16,  32],\n",
       "       [ 64, 128, 256]], dtype=int32)"
      ]
     },
     "execution_count": 8,
     "metadata": {},
     "output_type": "execute_result"
    }
   ],
   "source": [
    "x = np.arange(9).reshape(3, 3)\n",
    "2 ** x  # И над многомерными массивами"
   ]
  },
  {
   "cell_type": "markdown",
   "metadata": {},
   "source": [
    "### Арифмитические функции над массивами(Py_WP p.80)"
   ]
  },
  {
   "cell_type": "code",
   "execution_count": 9,
   "metadata": {},
   "outputs": [
    {
     "name": "stdout",
     "output_type": "stream",
     "text": [
      "x                              = [0 1 2 3 4]\n",
      "x + 10 = np.add(x, 10)         = [10 11 12 13 14]\n",
      "x - 10 = np.subtract(x, 10)    = [-10  -9  -8  -7  -6]\n",
      "x * 5  = np.multiply(x, 5)     = [ 0  5 10 15 20]\n",
      "x / 2  = np.divide(x, 2)       = [0.  0.5 1.  1.5 2. ]\n",
      "x // 2 = np.floor_divide(x, 2) = [0 0 1 1 2] Деление с округлением в меньшую сторону\n",
      "-x     = np.negative(x)        = [ 0 -1 -2 -3 -4]\n",
      "x ** 2 = np.power(x, 2)        = [ 0  1  4  9 16]\n",
      "x % 2  = np.mod(x, 2)          = [0 1 0 1 0] Остаток от деления\n"
     ]
    }
   ],
   "source": [
    "x = np.arange(5)\n",
    "print('x                              =', x)\n",
    "print('x + 10 = np.add(x, 10)         =', x + 10)\n",
    "print('x - 10 = np.subtract(x, 10)    =', x - 10)\n",
    "print('x * 5  = np.multiply(x, 5)     =', x * 5)\n",
    "print('x / 2  = np.divide(x, 2)       =', x / 2)\n",
    "print('x // 2 = np.floor_divide(x, 2) =', x // 2, 'Деление с округлением в меньшую сторону')\n",
    "print('-x     = np.negative(x)        =', -x)\n",
    "print('x ** 2 = np.power(x, 2)        =', x ** 2)\n",
    "print('x % 2  = np.mod(x, 2)          =', x % 2, 'Остаток от деления')"
   ]
  },
  {
   "cell_type": "code",
   "execution_count": 10,
   "metadata": {},
   "outputs": [
    {
     "data": {
      "text/plain": [
       "array([ 9,  8,  6,  2, -6], dtype=int32)"
      ]
     },
     "execution_count": 10,
     "metadata": {},
     "output_type": "execute_result"
    }
   ],
   "source": [
    "-(2 ** x) + 10 # Можно комбинировать эти функции"
   ]
  },
  {
   "cell_type": "code",
   "execution_count": 11,
   "metadata": {},
   "outputs": [
    {
     "name": "stdout",
     "output_type": "stream",
     "text": [
      "[-1 -2 -3  0  3  2  1]\n",
      "[1 2 3 0 3 2 1]\n",
      "[1 2 3 0 3 2 1]\n",
      "[1 2 3 0 3 2 1]\n"
     ]
    }
   ],
   "source": [
    "x = np.array([-1, -2, -3, 0, 3, 2, 1]) \n",
    "print(x)\n",
    "print(abs(x))\n",
    "print(np.abs(x))\n",
    "print(np.absolute(x))"
   ]
  },
  {
   "cell_type": "markdown",
   "metadata": {},
   "source": [
    "### Тригонометрические функции(Py_WP p.82)"
   ]
  },
  {
   "cell_type": "code",
   "execution_count": 12,
   "metadata": {},
   "outputs": [
    {
     "name": "stdout",
     "output_type": "stream",
     "text": [
      "theta      = [0.         1.57079633 3.14159265]\n",
      "sin(theta) = [0.0000000e+00 1.0000000e+00 1.2246468e-16]\n",
      "cos(theta) = [ 1.000000e+00  6.123234e-17 -1.000000e+00]\n",
      "tan(theta) = [ 0.00000000e+00  1.63312394e+16 -1.22464680e-16]\n",
      "ctan(theta)= [            inf  6.12323400e-17 -8.16561968e+15] [            inf  6.12323400e-17 -8.16561968e+15]\n"
     ]
    },
    {
     "name": "stderr",
     "output_type": "stream",
     "text": [
      "C:\\Users\\Juninho\\Anaconda3\\lib\\site-packages\\ipykernel_launcher.py:6: RuntimeWarning: divide by zero encountered in true_divide\n",
      "  \n",
      "C:\\Users\\Juninho\\Anaconda3\\lib\\site-packages\\ipykernel_launcher.py:6: RuntimeWarning: divide by zero encountered in reciprocal\n",
      "  \n"
     ]
    }
   ],
   "source": [
    "theta = np.linspace(0, np.pi, 3)\n",
    "print('theta      =', theta)\n",
    "print('sin(theta) =', np.sin(theta))\n",
    "print('cos(theta) =', np.cos(theta))\n",
    "print('tan(theta) =', np.tan(theta))\n",
    "print('ctan(theta)=', np.cos(theta) / np.sin(theta), np.tan(theta) ** -1)"
   ]
  },
  {
   "cell_type": "code",
   "execution_count": 13,
   "metadata": {},
   "outputs": [
    {
     "name": "stdout",
     "output_type": "stream",
     "text": [
      "x         = [-1  0  1]\n",
      "arcsin(x) = [-1.57079633  0.          1.57079633]\n",
      "arccos(x) = [3.14159265 1.57079633 0.        ]\n",
      "arctan(x) = [-0.78539816  0.          0.78539816]\n"
     ]
    }
   ],
   "source": [
    "x = np.array([-1, 0, 1])\n",
    "print('x         =', x)\n",
    "print('arcsin(x) =', np.arcsin(x))\n",
    "print('arccos(x) =', np.arccos(x))\n",
    "print('arctan(x) =', np.arctan(x))"
   ]
  },
  {
   "cell_type": "markdown",
   "metadata": {},
   "source": [
    "### Показательные функции(Py_WP p.82)"
   ]
  },
  {
   "cell_type": "code",
   "execution_count": 14,
   "metadata": {},
   "outputs": [
    {
     "name": "stdout",
     "output_type": "stream",
     "text": [
      "x     = [1, 2, 3]\n",
      "e^x   = [ 2.71828183  7.3890561  20.08553692]\n",
      "2^x   = [2. 4. 8.]\n",
      "3^x   = [ 3  9 27]\n"
     ]
    }
   ],
   "source": [
    "x = [1, 2, 3]\n",
    "print('x     =', x)\n",
    "print('e^x   =', np.exp(x))\n",
    "print('2^x   =', np.exp2(x))\n",
    "print('3^x   =', np.power(3, x))"
   ]
  },
  {
   "cell_type": "code",
   "execution_count": 15,
   "metadata": {},
   "outputs": [
    {
     "name": "stdout",
     "output_type": "stream",
     "text": [
      "x       = [1, 2, 4, 10]\n",
      "ln(x)   = [0.         0.69314718 1.38629436 2.30258509]\n",
      "log2(x) = [0.         1.         2.         3.32192809]\n",
      "log10(x)= [0.         0.30103    0.60205999 1.        ]\n",
      "exp(x) - 1 = [1.71828183e+00 6.38905610e+00 5.35981500e+01 2.20254658e+04]\n",
      "log(1 + x) = [0.69314718 1.09861229 1.60943791 2.39789527]\n"
     ]
    }
   ],
   "source": [
    "x = [1, 2, 4, 10]\n",
    "print('x       =', x)\n",
    "print('ln(x)   =', np.log(x))\n",
    "print('log2(x) =', np.log2(x))\n",
    "print('log10(x)=', np.log10(x))\n",
    "print('exp(x) - 1 =', np.expm1(x))    # При очень малых значениях Х эти две функции возвращают более точные значения чем обычные\n",
    "print('log(1 + x) =', np.log1p(x))"
   ]
  },
  {
   "cell_type": "markdown",
   "metadata": {},
   "source": [
    "### Указание массива для вывода результата универсальной функции(Py_WP p.84)"
   ]
  },
  {
   "cell_type": "code",
   "execution_count": 16,
   "metadata": {},
   "outputs": [
    {
     "name": "stdout",
     "output_type": "stream",
     "text": [
      "[ 1.  4.  9. 16.]\n"
     ]
    }
   ],
   "source": [
    "x = np.arange(1, 5)\n",
    "y = np.empty(4)\n",
    "np.power(x, 2, out=y)\n",
    "print(y)"
   ]
  },
  {
   "cell_type": "code",
   "execution_count": 17,
   "metadata": {},
   "outputs": [
    {
     "name": "stdout",
     "output_type": "stream",
     "text": [
      "[10. 20. 30. 40.  0.  0.  0.  0.]\n"
     ]
    }
   ],
   "source": [
    "y_1 = np.zeros(8)\n",
    "np.multiply(x, 10, out=y_1[:4])  # Использование этой функции с представлением \n",
    "print(y_1)"
   ]
  },
  {
   "cell_type": "code",
   "execution_count": 18,
   "metadata": {},
   "outputs": [
    {
     "name": "stdout",
     "output_type": "stream",
     "text": [
      "[10.  0. 20.  0. 30.  0. 40.  0.]\n"
     ]
    }
   ],
   "source": [
    "y_2 = np.zeros(8)\n",
    "np.multiply(x, 10, out=y_2[::2])\n",
    "print(y_2)"
   ]
  },
  {
   "cell_type": "markdown",
   "metadata": {},
   "source": [
    "### Сводные показатели (Py_WP p.85)"
   ]
  },
  {
   "cell_type": "code",
   "execution_count": 19,
   "metadata": {},
   "outputs": [
    {
     "name": "stdout",
     "output_type": "stream",
     "text": [
      "[1 2 3 4 5]\n",
      "15\n"
     ]
    }
   ],
   "source": [
    "# Метод reduce универсальной функции последовательно применяет данную функцию массива\n",
    "# к реузультату пердыдущей операции и новому элементу\n",
    "\n",
    "x = np.arange(1, 6)\n",
    "print(x)\n",
    "# Например reduce от add выдает сумму всех элементов массива\n",
    "print(np.add.reduce(x))"
   ]
  },
  {
   "cell_type": "code",
   "execution_count": 20,
   "metadata": {},
   "outputs": [
    {
     "data": {
      "text/plain": [
       "120"
      ]
     },
     "execution_count": 20,
     "metadata": {},
     "output_type": "execute_result"
    }
   ],
   "source": [
    "np.multiply.reduce(x) # перемножение всех элементов массива"
   ]
  },
  {
   "cell_type": "code",
   "execution_count": 21,
   "metadata": {},
   "outputs": [
    {
     "data": {
      "text/plain": [
       "array([ 1,  3,  6, 10, 15], dtype=int32)"
      ]
     },
     "execution_count": 21,
     "metadata": {},
     "output_type": "execute_result"
    }
   ],
   "source": [
    "# Фунцкция accumulate сохраняет все промежуточные результаты вычислений\n",
    "np.add.accumulate(x)\n",
    "# существуют также отдельные функции суммы, умножения и т.д.(np.sum, np.prod)"
   ]
  },
  {
   "cell_type": "code",
   "execution_count": 22,
   "metadata": {},
   "outputs": [
    {
     "data": {
      "text/plain": [
       "array([[ 1,  2,  3,  4,  5],\n",
       "       [ 2,  4,  6,  8, 10],\n",
       "       [ 3,  6,  9, 12, 15],\n",
       "       [ 4,  8, 12, 16, 20],\n",
       "       [ 5, 10, 15, 20, 25]])"
      ]
     },
     "execution_count": 22,
     "metadata": {},
     "output_type": "execute_result"
    }
   ],
   "source": [
    "# Все универсальные функции могут выводить результат приминения соответствующей функции ко всем парам двух аргументов\n",
    "# с помощью метода outer\n",
    "\n",
    "x = np.arange(1, 6)\n",
    "np.multiply.outer(x, x)"
   ]
  },
  {
   "cell_type": "markdown",
   "metadata": {},
   "source": [
    "# Агрегирование"
   ]
  },
  {
   "cell_type": "code",
   "execution_count": 23,
   "metadata": {},
   "outputs": [
    {
     "name": "stdout",
     "output_type": "stream",
     "text": [
      "268 ms ± 13.5 ms per loop (mean ± std. dev. of 7 runs, 1 loop each)\n",
      "1.79 ms ± 156 µs per loop (mean ± std. dev. of 7 runs, 100 loops each)\n"
     ]
    }
   ],
   "source": [
    "big_array = np.random.rand(1000000)\n",
    "%timeit sum(big_array)     # Обычная функция суммирования Python работает намного медленнее\n",
    "%timeit np.sum(big_array)  # Функция из модуля Numpy"
   ]
  },
  {
   "cell_type": "code",
   "execution_count": 24,
   "metadata": {},
   "outputs": [
    {
     "name": "stdout",
     "output_type": "stream",
     "text": [
      "min\n",
      "206 ms ± 20.8 ms per loop (mean ± std. dev. of 7 runs, 10 loops each)\n",
      "1.09 ms ± 25.9 µs per loop (mean ± std. dev. of 7 runs, 1000 loops each)\n",
      "max\n",
      "215 ms ± 16.7 ms per loop (mean ± std. dev. of 7 runs, 1 loop each)\n",
      "1.07 ms ± 31.8 µs per loop (mean ± std. dev. of 7 runs, 1000 loops each)\n"
     ]
    }
   ],
   "source": [
    "# Также как минимум и максимум\n",
    "print('min')\n",
    "%timeit min(big_array)\n",
    "%timeit np.min(big_array)\n",
    "print('max')\n",
    "%timeit max(big_array)\n",
    "%timeit np.max(big_array)"
   ]
  },
  {
   "cell_type": "code",
   "execution_count": 25,
   "metadata": {},
   "outputs": [
    {
     "name": "stdout",
     "output_type": "stream",
     "text": [
      "min 7.071203171893359e-07\n",
      "max 0.9999997207656334\n",
      "sum 500222.83501534775\n"
     ]
    }
   ],
   "source": [
    "# Сокращенная запись функций в модуле Numpy\n",
    "print('min', big_array.min())\n",
    "print('max', big_array.max())\n",
    "print('sum', big_array.sum())"
   ]
  },
  {
   "cell_type": "markdown",
   "metadata": {},
   "source": [
    "### Многомерные сводные показатели(Py_WP p.88)"
   ]
  },
  {
   "cell_type": "code",
   "execution_count": 26,
   "metadata": {},
   "outputs": [
    {
     "data": {
      "text/plain": [
       "array([[0.37038403, 0.06785738, 0.48412739, 0.7476983 ],\n",
       "       [0.47720923, 0.23956676, 0.87236336, 0.36038331],\n",
       "       [0.35509894, 0.63857126, 0.71866774, 0.76571011]])"
      ]
     },
     "execution_count": 26,
     "metadata": {},
     "output_type": "execute_result"
    }
   ],
   "source": [
    "M = np.random.random((3, 4))\n",
    "M"
   ]
  },
  {
   "cell_type": "code",
   "execution_count": 27,
   "metadata": {},
   "outputs": [
    {
     "data": {
      "text/plain": [
       "6.0976378074264606"
      ]
     },
     "execution_count": 27,
     "metadata": {},
     "output_type": "execute_result"
    }
   ],
   "source": [
    "M.sum()"
   ]
  },
  {
   "cell_type": "code",
   "execution_count": 28,
   "metadata": {},
   "outputs": [
    {
     "name": "stdout",
     "output_type": "stream",
     "text": [
      "0.06785737543709247 минимальное значение в массиве\n",
      "[0.35509894 0.06785738 0.48412739 0.36038331] минимальные значения по столбцам\n",
      "[0.7476983  0.87236336 0.76571011] максимальные значения по строкам\n"
     ]
    }
   ],
   "source": [
    "# С помощью дополнительного аргумента axis можно указать ось по которой вычисляется сводный показатель\n",
    "# axis задает ось по которой измерение будет схлопнуто\n",
    "print(M.min(), 'минимальное значение в массиве')\n",
    "print(M.min(axis=0), 'минимальные значения по столбцам')\n",
    "print(M.max(axis=1), 'максимальные значения по строкам')"
   ]
  },
  {
   "cell_type": "markdown",
   "metadata": {},
   "source": [
    "### Список доступных функций агрегирования(Py_WP p.89)"
   ]
  },
  {
   "cell_type": "code",
   "execution_count": 29,
   "metadata": {},
   "outputs": [
    {
     "name": "stdout",
     "output_type": "stream",
     "text": [
      "Имя функции       Nan-безопасн. версия /Описание\n",
      "np.sum()       -- np.nansum()       -- Вычисляет сумму элементов\n",
      "np.prod()      -- np.nanprod()      -- Вычисляет произведение элементов\n",
      "np.mean()      -- np.nanmean()      -- Вычисляет среднее значение элементов\n",
      "np.std()       -- np.nanstd()       -- Вычисляет стандартное отклонение\n",
      "np.var()       -- np.nanvar()       -- Вычисляет дисперсию\n",
      "np.min()       -- np.nanmin()       -- Вычисляет минимальное значение\n",
      "np.max()       -- np.nanmax()       -- Вычисляет максимальное значение\n",
      "np.argmin()    -- np.nanargmin()    -- Вычисляет индекс минимального значения\n",
      "np.argmax()    -- np.nanargmax()    -- Вычисляет индекс максимального значения\n",
      "np.median()    -- np.nanmedian()    -- Вычисляет медиану элементов\n",
      "np.percentile()-- np.nanpercentile()-- Вычисляет квантили элементов\n",
      "np.any()       -- N/A               -- Проверяет существуют ли элементы со значением true\n",
      "np.all()       -- N/A               -- Проверяет все ли элементы имеют значение true\n"
     ]
    }
   ],
   "source": [
    "print('Имя функции      ', 'Nan-безопасн. версия', '/Описание')\n",
    "print('np.sum()       --', 'np.nansum()       --', 'Вычисляет сумму элементов')\n",
    "print('np.prod()      --', 'np.nanprod()      --', 'Вычисляет произведение элементов')\n",
    "print('np.mean()      --', 'np.nanmean()      --', 'Вычисляет среднее значение элементов')\n",
    "print('np.std()       --', 'np.nanstd()       --', 'Вычисляет стандартное отклонение')\n",
    "print('np.var()       --', 'np.nanvar()       --', 'Вычисляет дисперсию')\n",
    "print('np.min()       --', 'np.nanmin()       --', 'Вычисляет минимальное значение')\n",
    "print('np.max()       --', 'np.nanmax()       --', 'Вычисляет максимальное значение')\n",
    "print('np.argmin()    --', 'np.nanargmin()    --', 'Вычисляет индекс минимального значения')\n",
    "print('np.argmax()    --', 'np.nanargmax()    --', 'Вычисляет индекс максимального значения')\n",
    "print('np.median()    --', 'np.nanmedian()    --', 'Вычисляет медиану элементов')\n",
    "print('np.percentile()--', 'np.nanpercentile()--', 'Вычисляет квантили элементов')\n",
    "print('np.any()       --', 'N/A               --', 'Проверяет существуют ли элементы со значением true')\n",
    "print('np.all()       --', 'N/A               --', 'Проверяет все ли элементы имеют значение true')"
   ]
  },
  {
   "cell_type": "markdown",
   "metadata": {},
   "source": [
    "# Транслирование (Py_WP, p.92)"
   ]
  },
  {
   "cell_type": "code",
   "execution_count": 30,
   "metadata": {},
   "outputs": [
    {
     "name": "stdout",
     "output_type": "stream",
     "text": [
      "[6 7 8]\n",
      "[6 7 8]\n"
     ]
    }
   ],
   "source": [
    "# При операциях над массивами разных размеров используется транслирование\n",
    "a = np.array([1, 2, 3])\n",
    "b = np.array([5])\n",
    "\n",
    "print(a + b)   # Массив b растягивается до размеров второго массива [5, 5, 5]\n",
    "print(5 + a)   # Также происходит и со скалярными значениясм"
   ]
  },
  {
   "cell_type": "code",
   "execution_count": 31,
   "metadata": {},
   "outputs": [
    {
     "name": "stdout",
     "output_type": "stream",
     "text": [
      "a\n",
      "[1 2 3]\n",
      "M\n",
      "[[1. 1. 1.]\n",
      " [1. 1. 1.]\n",
      " [1. 1. 1.]]\n",
      "M + a\n",
      "[[2. 3. 4.]\n",
      " [2. 3. 4.]\n",
      " [2. 3. 4.]]\n"
     ]
    }
   ],
   "source": [
    "# Аналогично можно работать с массивами большей размерности\n",
    "M = np.ones((3, 3))\n",
    "print('a', a, sep='\\n')\n",
    "print('M', M, sep='\\n')\n",
    "\n",
    "print('M + a', M + a, sep='\\n')     # Одномерный массив транслируется растягиваясь до двумерного"
   ]
  },
  {
   "cell_type": "code",
   "execution_count": 32,
   "metadata": {},
   "outputs": [
    {
     "name": "stdout",
     "output_type": "stream",
     "text": [
      "a [0 1 2]\n",
      "b [[0]\n",
      " [1]\n",
      " [2]]\n",
      "a + b\n",
      "[[0 1 2]\n",
      " [1 2 3]\n",
      " [2 3 4]]\n"
     ]
    }
   ],
   "source": [
    "# Также могут транслироваться оба массива\n",
    "a = np.arange(3)\n",
    "b = np.arange(3)[:, np.newaxis]\n",
    "\n",
    "print('a', a)\n",
    "print('b', b)\n",
    "\n",
    "print('a + b', a + b, sep='\\n')"
   ]
  },
  {
   "cell_type": "code",
   "execution_count": 33,
   "metadata": {
    "scrolled": true
   },
   "outputs": [
    {
     "name": "stdout",
     "output_type": "stream",
     "text": [
      "[[1. 1.]\n",
      " [1. 1.]\n",
      " [1. 1.]] [0 1 2]\n"
     ]
    },
    {
     "ename": "ValueError",
     "evalue": "operands could not be broadcast together with shapes (3,2) (3,) ",
     "output_type": "error",
     "traceback": [
      "\u001b[1;31m---------------------------------------------------------------------------\u001b[0m",
      "\u001b[1;31mValueError\u001b[0m                                Traceback (most recent call last)",
      "\u001b[1;32m<ipython-input-33-21e31df079d2>\u001b[0m in \u001b[0;36m<module>\u001b[1;34m()\u001b[0m\n\u001b[0;32m      9\u001b[0m \u001b[0mprint\u001b[0m\u001b[1;33m(\u001b[0m\u001b[0mM\u001b[0m\u001b[1;33m,\u001b[0m \u001b[0ma\u001b[0m\u001b[1;33m)\u001b[0m\u001b[1;33m\u001b[0m\u001b[0m\n\u001b[0;32m     10\u001b[0m \u001b[1;31m#\u001b[0m\u001b[1;33m\u001b[0m\u001b[1;33m\u001b[0m\u001b[0m\n\u001b[1;32m---> 11\u001b[1;33m \u001b[0mM\u001b[0m \u001b[1;33m+\u001b[0m \u001b[0ma\u001b[0m\u001b[1;33m\u001b[0m\u001b[0m\n\u001b[0m",
      "\u001b[1;31mValueError\u001b[0m: operands could not be broadcast together with shapes (3,2) (3,) "
     ]
    }
   ],
   "source": [
    "# Три правила транслирования\n",
    "# 1) сначала добавляются единицы слева для недостающего измерения \n",
    "# 2) Затем там где не сопадает размерность массив с 1 в данном измерении растягивается до второго\n",
    "# 3) Если массивы не совпадают в каком-то измерении и ни в одном нет 1, то генерируется ошибка\n",
    "\n",
    "# Но\n",
    "M = np.ones((3, 2))\n",
    "a = np.arange(3)\n",
    "print(M, a)\n",
    "# \n",
    "M + a"
   ]
  },
  {
   "cell_type": "code",
   "execution_count": 34,
   "metadata": {},
   "outputs": [
    {
     "name": "stdout",
     "output_type": "stream",
     "text": [
      "[[1. 1.]\n",
      " [2. 2.]\n",
      " [3. 3.]]\n",
      "[[[1. 2. 3.]\n",
      "  [1. 2. 3.]]\n",
      "\n",
      " [[1. 2. 3.]\n",
      "  [1. 2. 3.]]\n",
      "\n",
      " [[1. 2. 3.]\n",
      "  [1. 2. 3.]]]\n"
     ]
    }
   ],
   "source": [
    "# Для такого сложения нужно добавить измерние в ручную\n",
    "print(M + a[:, np.newaxis])\n",
    "# Или\n",
    "print(M.reshape((3, 2, 1)) + a)"
   ]
  },
  {
   "cell_type": "markdown",
   "metadata": {},
   "source": [
    "# Сравнения, маски и булева логика"
   ]
  },
  {
   "cell_type": "code",
   "execution_count": 35,
   "metadata": {},
   "outputs": [
    {
     "name": "stdout",
     "output_type": "stream",
     "text": [
      "[1 2 3 4 5]\n",
      "[ True  True False False False] Меньше , np.less\n",
      "[False False False  True  True] Больше , np.greater\n",
      "[False False  True False False] Равно , np.equal\n",
      "[ True  True  True False False] Меньше или равно , np.less_equal\n",
      "[ True  True False  True  True] Не равно , np.not_equal\n"
     ]
    }
   ],
   "source": [
    "x = np.arange(1, 6)\n",
    "print(x)\n",
    "print(x < 3 , 'Меньше', ', np.less')\n",
    "\n",
    "print(x > 3, 'Больше', ', np.greater')\n",
    "print(x == 3, 'Равно', ', np.equal')\n",
    "print(x <= 3, 'Меньше или равно', ', np.less_equal')\n",
    "print(x != 3, 'Не равно', ', np.not_equal')"
   ]
  },
  {
   "cell_type": "code",
   "execution_count": 36,
   "metadata": {},
   "outputs": [
    {
     "data": {
      "text/plain": [
       "array([ True, False, False, False, False])"
      ]
     },
     "execution_count": 36,
     "metadata": {},
     "output_type": "execute_result"
    }
   ],
   "source": [
    "# Можно сравнивать два массива\n",
    "x == (x ** 2)"
   ]
  },
  {
   "cell_type": "code",
   "execution_count": 37,
   "metadata": {},
   "outputs": [
    {
     "name": "stdout",
     "output_type": "stream",
     "text": [
      "[[5 1 0]\n",
      " [0 2 4]\n",
      " [8 6 8]\n",
      " [1 1 7]]\n",
      "[[ True False False]\n",
      " [False False False]\n",
      " [ True  True  True]\n",
      " [False False  True]]\n"
     ]
    }
   ],
   "source": [
    "# Работает и с многомерными массивами\n",
    "x = np.random.randint(10, size=(4, 3))\n",
    "print(x)\n",
    "print(x > 4)"
   ]
  },
  {
   "cell_type": "markdown",
   "metadata": {},
   "source": [
    "## Агрегативные показатели с булевыми массивами"
   ]
  },
  {
   "cell_type": "code",
   "execution_count": 38,
   "metadata": {},
   "outputs": [
    {
     "data": {
      "text/plain": [
       "5"
      ]
     },
     "execution_count": 38,
     "metadata": {},
     "output_type": "execute_result"
    }
   ],
   "source": [
    "np.sum(x > 4)"
   ]
  },
  {
   "cell_type": "code",
   "execution_count": 39,
   "metadata": {
    "scrolled": true
   },
   "outputs": [
    {
     "name": "stdout",
     "output_type": "stream",
     "text": [
      "[2 1 2]\n",
      "[1 0 3 1]\n"
     ]
    }
   ],
   "source": [
    "print(np.sum(x > 4, axis=0)) # Сколько значений x < 4 в каждом столбце\n",
    "print(np.sum(x > 4, axis=1)) # Сколько значений x < 4 в каждой строке"
   ]
  },
  {
   "cell_type": "code",
   "execution_count": 40,
   "metadata": {},
   "outputs": [
    {
     "data": {
      "text/plain": [
       "True"
      ]
     },
     "execution_count": 40,
     "metadata": {},
     "output_type": "execute_result"
    }
   ],
   "source": [
    "np.any(x > 4) # Хотя бы один из элементов попадает"
   ]
  },
  {
   "cell_type": "code",
   "execution_count": 41,
   "metadata": {},
   "outputs": [
    {
     "data": {
      "text/plain": [
       "array([ True,  True, False, False])"
      ]
     },
     "execution_count": 41,
     "metadata": {},
     "output_type": "execute_result"
    }
   ],
   "source": [
    "np.all(x < 7, axis=1) # Все элементы правдивы по строкам"
   ]
  },
  {
   "cell_type": "markdown",
   "metadata": {},
   "source": [
    "## Булевы операторы"
   ]
  },
  {
   "cell_type": "code",
   "execution_count": 42,
   "metadata": {},
   "outputs": [
    {
     "data": {
      "text/plain": [
       "3"
      ]
     },
     "execution_count": 42,
     "metadata": {},
     "output_type": "execute_result"
    }
   ],
   "source": [
    "np.sum((x < 7) & (x > 3))   # Оператор И  --- np.bitwise_and"
   ]
  },
  {
   "cell_type": "code",
   "execution_count": 43,
   "metadata": {},
   "outputs": [
    {
     "data": {
      "text/plain": [
       "9"
      ]
     },
     "execution_count": 43,
     "metadata": {},
     "output_type": "execute_result"
    }
   ],
   "source": [
    "np.sum((x >= 7) | (x <= 3))   # ИЛИ   --- np.bitwise_or"
   ]
  },
  {
   "cell_type": "code",
   "execution_count": 44,
   "metadata": {},
   "outputs": [
    {
     "data": {
      "text/plain": [
       "4"
      ]
     },
     "execution_count": 44,
     "metadata": {},
     "output_type": "execute_result"
    }
   ],
   "source": [
    "np.sum(((x % 2) == 0) ^ ((x % 3) == 0))  # Исключающее ИЛИ (XOR)   --- np.bitwise_xor"
   ]
  },
  {
   "cell_type": "code",
   "execution_count": 45,
   "metadata": {},
   "outputs": [
    {
     "data": {
      "text/plain": [
       "7"
      ]
     },
     "execution_count": 45,
     "metadata": {},
     "output_type": "execute_result"
    }
   ],
   "source": [
    "np.sum(~(x < 2))    # НЕ"
   ]
  },
  {
   "cell_type": "markdown",
   "metadata": {},
   "source": [
    "    Операторы (&. |, ^, ~) - побитовые, поэтому применяются к каждому элементу массива. \n",
    "    В отличии от (AND, OR, XOR, NOT), которые не могут применяться к массивам как универсальные функции."
   ]
  },
  {
   "cell_type": "markdown",
   "metadata": {},
   "source": [
    "## Булевы массивы как маски"
   ]
  },
  {
   "cell_type": "code",
   "execution_count": 46,
   "metadata": {
    "scrolled": true
   },
   "outputs": [
    {
     "name": "stdout",
     "output_type": "stream",
     "text": [
      "[[5 1 0]\n",
      " [0 2 4]\n",
      " [8 6 8]\n",
      " [1 1 7]]\n",
      "[1 0 0 2 1 1]\n"
     ]
    }
   ],
   "source": [
    "print(x)\n",
    "print(x[x < 3])  # Возвращает одномерный массив "
   ]
  },
  {
   "cell_type": "markdown",
   "metadata": {},
   "source": [
    "# Прихотливая индексация"
   ]
  },
  {
   "cell_type": "code",
   "execution_count": 47,
   "metadata": {},
   "outputs": [
    {
     "name": "stdout",
     "output_type": "stream",
     "text": [
      "[68 53 76 30  8 83 61 11 55 82]\n"
     ]
    }
   ],
   "source": [
    "y = np.random.randint(100, size=(10))\n",
    "print(y)"
   ]
  },
  {
   "cell_type": "code",
   "execution_count": 48,
   "metadata": {},
   "outputs": [
    {
     "data": {
      "text/plain": [
       "[30, 83]"
      ]
     },
     "execution_count": 48,
     "metadata": {},
     "output_type": "execute_result"
    }
   ],
   "source": [
    "[y[3], y[5]]"
   ]
  },
  {
   "cell_type": "code",
   "execution_count": 49,
   "metadata": {},
   "outputs": [
    {
     "data": {
      "text/plain": [
       "array([30, 83])"
      ]
     },
     "execution_count": 49,
     "metadata": {},
     "output_type": "execute_result"
    }
   ],
   "source": [
    "ind = [3, 5]\n",
    "y[ind]"
   ]
  },
  {
   "cell_type": "code",
   "execution_count": 50,
   "metadata": {},
   "outputs": [
    {
     "data": {
      "text/plain": [
       "array([[53, 76],\n",
       "       [30,  8],\n",
       "       [83, 61]])"
      ]
     },
     "execution_count": 50,
     "metadata": {},
     "output_type": "execute_result"
    }
   ],
   "source": [
    "# на выходе принимает форму массива индексов\n",
    "ind = np.array([[1, 2],\n",
    "                [3, 4],\n",
    "                [5, 6]])\n",
    "y[ind]"
   ]
  },
  {
   "cell_type": "code",
   "execution_count": 51,
   "metadata": {},
   "outputs": [
    {
     "name": "stdout",
     "output_type": "stream",
     "text": [
      "[[5 1 0]\n",
      " [0 2 4]\n",
      " [8 6 8]\n",
      " [1 1 7]]\n"
     ]
    },
    {
     "data": {
      "text/plain": [
       "array([4, 1])"
      ]
     },
     "execution_count": 51,
     "metadata": {},
     "output_type": "execute_result"
    }
   ],
   "source": [
    "# Работает и с многомерными массивами\n",
    "print(x)\n",
    "ind = [[1, 3], [2, 1]]\n",
    "x[ind]"
   ]
  },
  {
   "cell_type": "code",
   "execution_count": 52,
   "metadata": {},
   "outputs": [
    {
     "name": "stdout",
     "output_type": "stream",
     "text": [
      "[[ 1  2  3  4]\n",
      " [ 5  6  7  8]\n",
      " [ 9 10 11 12]]\n"
     ]
    },
    {
     "data": {
      "text/plain": [
       "array([ 8, 10,  3])"
      ]
     },
     "execution_count": 52,
     "metadata": {},
     "output_type": "execute_result"
    }
   ],
   "source": [
    "Y = np.arange(1, 13).reshape((3, 4))\n",
    "row = np.array([1, 2, 0])\n",
    "col = np.array([3, 1, 2])\n",
    "print(Y)\n",
    "Y[row, col]"
   ]
  },
  {
   "cell_type": "code",
   "execution_count": 53,
   "metadata": {},
   "outputs": [
    {
     "name": "stdout",
     "output_type": "stream",
     "text": [
      "[[1]\n",
      " [2]\n",
      " [0]]\n",
      "[3 1 2]\n"
     ]
    },
    {
     "data": {
      "text/plain": [
       "array([[ 8,  6,  7],\n",
       "       [12, 10, 11],\n",
       "       [ 4,  2,  3]])"
      ]
     },
     "execution_count": 53,
     "metadata": {},
     "output_type": "execute_result"
    }
   ],
   "source": [
    "# при индексации при помощи массивов разных размерностей, \n",
    "# составление пар индексов происходит с помощью транслирования\n",
    "print(row[:, np.newaxis])\n",
    "print(col)\n",
    "Y[row[:, np.newaxis], col]"
   ]
  },
  {
   "cell_type": "code",
   "execution_count": 54,
   "metadata": {},
   "outputs": [
    {
     "name": "stdout",
     "output_type": "stream",
     "text": [
      "[11 10 12]\n",
      "[[ 7  6  8]\n",
      " [11 10 12]]\n"
     ]
    },
    {
     "data": {
      "text/plain": [
       "array([[ 5,  7],\n",
       "       [ 9, 11],\n",
       "       [ 1,  3]])"
      ]
     },
     "execution_count": 54,
     "metadata": {},
     "output_type": "execute_result"
    }
   ],
   "source": [
    "# Можно применять \"прихотливые\" индексы \n",
    "# с обычными\n",
    "print(Y[2, [2, 1, 3]])\n",
    "\n",
    "# со срезами\n",
    "print(Y[1:, [2, 1, 3]])\n",
    "\n",
    "# А также прихотливую индексацию и маскирование\n",
    "mask = np.array([1, 0, True, False], dtype=bool)\n",
    "Y[row[:, np.newaxis], mask]"
   ]
  },
  {
   "cell_type": "markdown",
   "metadata": {},
   "source": [
    "## Пример: Выборка случайных точек"
   ]
  },
  {
   "cell_type": "code",
   "execution_count": 55,
   "metadata": {},
   "outputs": [
    {
     "data": {
      "text/plain": [
       "(100, 2)"
      ]
     },
     "execution_count": 55,
     "metadata": {},
     "output_type": "execute_result"
    }
   ],
   "source": [
    "# Например есть двумерный массив\n",
    "mean = [0, 0]\n",
    "cov = [[1, 2],\n",
    "       [2, 5]]\n",
    "X = np.random.multivariate_normal(mean, cov, 100)\n",
    "np.shape(X)"
   ]
  },
  {
   "cell_type": "code",
   "execution_count": 56,
   "metadata": {},
   "outputs": [
    {
     "data": {
      "image/png": "[encoded data removed]",
      "text/plain": [
       "<Figure size 432x288 with 1 Axes>"
      ]
     },
     "metadata": {},
     "output_type": "display_data"
    }
   ],
   "source": [
    "# Нарисуем график\n",
    "%matplotlib inline\n",
    "import matplotlib.pyplot as plt\n",
    "import seaborn; seaborn.set() # для задания стиля графика\n",
    "\n",
    "plt.scatter(X[:, 0], X[:, 1]);"
   ]
  },
  {
   "cell_type": "code",
   "execution_count": 57,
   "metadata": {},
   "outputs": [
    {
     "data": {
      "text/plain": [
       "array([26, 76, 27, 23,  8,  5,  1, 24, 78, 94])"
      ]
     },
     "execution_count": 57,
     "metadata": {},
     "output_type": "execute_result"
    }
   ],
   "source": [
    "# С помощью прихотливой индексации выберем 10 случайных значений\n",
    "indices = np.random.choice(np.shape(X)[0], 10, replace=False) # replace=False для выбора не повторяющихся значений\n",
    "indices"
   ]
  },
  {
   "cell_type": "code",
   "execution_count": 58,
   "metadata": {},
   "outputs": [
    {
     "data": {
      "text/plain": [
       "(10, 2)"
      ]
     },
     "execution_count": 58,
     "metadata": {},
     "output_type": "execute_result"
    }
   ],
   "source": [
    "selection = X[indices]  # \"прихотливая\" индексация\n",
    "np.shape(selection)"
   ]
  },
  {
   "cell_type": "code",
   "execution_count": 59,
   "metadata": {},
   "outputs": [
    {
     "data": {
      "image/png": "[encoded data removed]",
      "text/plain": [
       "<Figure size 432x288 with 1 Axes>"
      ]
     },
     "metadata": {},
     "output_type": "display_data"
    }
   ],
   "source": [
    "plt.scatter(X[:, 0], X[:, 1], alpha=0.4, s=20)\n",
    "plt.scatter(selection[:, 0], selection[:, 1],\n",
    "            c='none',\n",
    "            edgecolors= 'orange',\n",
    "            linewidth=1.2,\n",
    "            s=200);"
   ]
  },
  {
   "cell_type": "markdown",
   "metadata": {},
   "source": [
    "## Изменение значений с помощью прихотливой индексации"
   ]
  },
  {
   "cell_type": "code",
   "execution_count": 60,
   "metadata": {},
   "outputs": [
    {
     "name": "stdout",
     "output_type": "stream",
     "text": [
      "[0 1 2 3 4 5 6 7 8 9]\n",
      "[ 0 99  2  3  4 99 99  7  8 99]\n"
     ]
    }
   ],
   "source": [
    "x = np.arange(10)\n",
    "i = np.array([1, 5, 6, 9])\n",
    "print(x)\n",
    "x[i] = 99\n",
    "print(x)"
   ]
  },
  {
   "cell_type": "code",
   "execution_count": 61,
   "metadata": {},
   "outputs": [
    {
     "name": "stdout",
     "output_type": "stream",
     "text": [
      "[  0 199   2   3   4 199 199   7   8 199]\n"
     ]
    }
   ],
   "source": [
    "# Можно использовать любой из операторов присваивания\n",
    "x[i] += 100\n",
    "print(x)"
   ]
  },
  {
   "cell_type": "code",
   "execution_count": 62,
   "metadata": {},
   "outputs": [
    {
     "name": "stdout",
     "output_type": "stream",
     "text": [
      "[  6 199   2   3   4 199 199   7   8 199]\n"
     ]
    }
   ],
   "source": [
    "# но\n",
    "x[[0, 0]] = [4, 6]\n",
    "print(x) # Сначала присваивается 4 затем 6"
   ]
  },
  {
   "cell_type": "code",
   "execution_count": 63,
   "metadata": {},
   "outputs": [
    {
     "name": "stdout",
     "output_type": "stream",
     "text": [
      "[0. 0. 1. 1. 1. 0. 0. 0. 0. 0.]\n"
     ]
    }
   ],
   "source": [
    "# Но\n",
    "x = np.zeros(10)\n",
    "i = [2, 3, 3, 4, 4, 4]\n",
    "x[i] += 1\n",
    "print(x)  # не 1, 2, 3 как ожидалось. Неочивидное поведение"
   ]
  },
  {
   "cell_type": "code",
   "execution_count": 64,
   "metadata": {},
   "outputs": [
    {
     "name": "stdout",
     "output_type": "stream",
     "text": [
      "[0. 0. 1. 2. 3. 0. 0. 0. 0. 0.]\n"
     ]
    }
   ],
   "source": [
    "# Чтобы работало как хотели нужно использовать at()\n",
    "x = np.zeros(10)\n",
    "np.add.at(x, i, 1)\n",
    "print(x)"
   ]
  },
  {
   "cell_type": "markdown",
   "metadata": {},
   "source": [
    "## Гистограмма вручную с помощью at()"
   ]
  },
  {
   "cell_type": "code",
   "execution_count": 65,
   "metadata": {
    "scrolled": true
   },
   "outputs": [
    {
     "data": {
      "image/png": "[encoded data removed]",
      "text/plain": [
       "<Figure size 432x288 with 1 Axes>"
      ]
     },
     "metadata": {},
     "output_type": "display_data"
    }
   ],
   "source": [
    "np.random.seed(42)\n",
    "x = np.random.randn(1000)\n",
    "\n",
    "bins = np.linspace(-5, 5, 20)\n",
    "counts = np.zeros_like(bins)\n",
    "\n",
    "# ищем для каждого x подходящий интервал\n",
    "i = np.searchsorted(bins, x)\n",
    "\n",
    "# добавляем 1 каждому x в интервале\n",
    "np.add.at(counts, i, 1)\n",
    "\n",
    "plt.plot(bins, counts,\n",
    "         linestyle='steps');"
   ]
  },
  {
   "cell_type": "code",
   "execution_count": 66,
   "metadata": {
    "scrolled": true
   },
   "outputs": [
    {
     "data": {
      "text/plain": [
       "(array([  0.,   0.,   0.,   1.,   5.,  19.,  63., 118., 184., 218., 187.,\n",
       "        106.,  62.,  27.,   8.,   1.,   1.,   0.,   0.]),\n",
       " array([-5.        , -4.47368421, -3.94736842, -3.42105263, -2.89473684,\n",
       "        -2.36842105, -1.84210526, -1.31578947, -0.78947368, -0.26315789,\n",
       "         0.26315789,  0.78947368,  1.31578947,  1.84210526,  2.36842105,\n",
       "         2.89473684,  3.42105263,  3.94736842,  4.47368421,  5.        ]),\n",
       " <a list of 1 Patch objects>)"
      ]
     },
     "execution_count": 66,
     "metadata": {},
     "output_type": "execute_result"
    },
    {
     "data": {
      "image/png": "[encoded data removed]",
      "text/plain": [
       "<Figure size 432x288 with 1 Axes>"
      ]
     },
     "metadata": {},
     "output_type": "display_data"
    }
   ],
   "source": [
    "# то же самое\n",
    "plt.hist(x, bins, histtype='step', color='black', linewidth=2)"
   ]
  },
  {
   "cell_type": "code",
   "execution_count": 67,
   "metadata": {
    "scrolled": true
   },
   "outputs": [
    {
     "name": "stdout",
     "output_type": "stream",
     "text": [
      "(array([  0,   0,   0,   1,   5,  19,  63, 118, 184, 218, 187, 106,  62,\n",
      "        27,   8,   1,   1,   0,   0], dtype=int64), array([-5.        , -4.47368421, -3.94736842, -3.42105263, -2.89473684,\n",
      "       -2.36842105, -1.84210526, -1.31578947, -0.78947368, -0.26315789,\n",
      "        0.26315789,  0.78947368,  1.31578947,  1.84210526,  2.36842105,\n",
      "        2.89473684,  3.42105263,  3.94736842,  4.47368421,  5.        ]))\n",
      "[  0.   0.   0.   0.   1.   5.  19.  63. 118. 184. 218. 187. 106.  62.\n",
      "  27.   8.   1.   1.   0.   0.] [-5.         -4.47368421 -3.94736842 -3.42105263 -2.89473684 -2.36842105\n",
      " -1.84210526 -1.31578947 -0.78947368 -0.26315789  0.26315789  0.78947368\n",
      "  1.31578947  1.84210526  2.36842105  2.89473684  3.42105263  3.94736842\n",
      "  4.47368421  5.        ]\n"
     ]
    }
   ],
   "source": [
    "# Эта функция делает практически то же самое с помощью функции np.histogram()\n",
    "\n",
    "print(np.histogram(x, bins))\n",
    "\n",
    "print(counts, bins)"
   ]
  },
  {
   "cell_type": "code",
   "execution_count": 68,
   "metadata": {
    "scrolled": true
   },
   "outputs": [
    {
     "name": "stdout",
     "output_type": "stream",
     "text": [
      "182 µs ± 12.8 µs per loop (mean ± std. dev. of 7 runs, 10000 loops each)\n",
      "249 µs ± 25.5 µs per loop (mean ± std. dev. of 7 runs, 1000 loops each)\n"
     ]
    }
   ],
   "source": [
    "# на маленьких массивах\n",
    "%timeit np.histogram(x, bins)\n",
    "%timeit np.add.at(counts, np.searchsorted(bins, x), 1)"
   ]
  },
  {
   "cell_type": "code",
   "execution_count": 69,
   "metadata": {},
   "outputs": [
    {
     "name": "stdout",
     "output_type": "stream",
     "text": [
      "121 ms ± 2.52 ms per loop (mean ± std. dev. of 7 runs, 10 loops each)\n",
      "224 ms ± 4.74 ms per loop (mean ± std. dev. of 7 runs, 1 loop each)\n"
     ]
    }
   ],
   "source": [
    "# на больших\n",
    "x = np.random.rand(1000000)\n",
    "%timeit np.histogram(x, bins)\n",
    "%timeit np.add.at(counts, np.searchsorted(bins, x), 1)"
   ]
  },
  {
   "cell_type": "markdown",
   "metadata": {},
   "source": [
    "# Сортировка"
   ]
  },
  {
   "cell_type": "code",
   "execution_count": 70,
   "metadata": {},
   "outputs": [
    {
     "data": {
      "text/plain": [
       "array([1, 2, 3, 4, 5, 6])"
      ]
     },
     "execution_count": 70,
     "metadata": {},
     "output_type": "execute_result"
    }
   ],
   "source": [
    "x = np.array([2, 3, 1, 6, 4, 5])\n",
    "np.sort(x)"
   ]
  },
  {
   "cell_type": "code",
   "execution_count": 71,
   "metadata": {},
   "outputs": [
    {
     "name": "stdout",
     "output_type": "stream",
     "text": [
      "[1 2 3 4 5 6]\n"
     ]
    }
   ],
   "source": [
    "x.sort()  # также\n",
    "print(x)"
   ]
  },
  {
   "cell_type": "code",
   "execution_count": 72,
   "metadata": {},
   "outputs": [
    {
     "name": "stdout",
     "output_type": "stream",
     "text": [
      "[2 0 1 4 5 3]\n",
      "[1 2 3 4 5 6]\n"
     ]
    }
   ],
   "source": [
    "x = np.array([2, 3, 1, 6, 4, 5])\n",
    "i = np.argsort(x) # фозвращает инедексы отсортированного массива\n",
    "print(i)\n",
    "print(x[i])"
   ]
  },
  {
   "cell_type": "code",
   "execution_count": 73,
   "metadata": {},
   "outputs": [
    {
     "name": "stdout",
     "output_type": "stream",
     "text": [
      "[[6 3 7 4 6]\n",
      " [9 2 6 7 4]\n",
      " [3 7 7 2 5]]\n"
     ]
    }
   ],
   "source": [
    "rand = np.random.RandomState(42)\n",
    "X = rand.randint(0, 10, (3, 5))\n",
    "print(X)"
   ]
  },
  {
   "cell_type": "code",
   "execution_count": 74,
   "metadata": {},
   "outputs": [
    {
     "data": {
      "text/plain": [
       "array([[3, 2, 6, 2, 4],\n",
       "       [6, 3, 7, 4, 5],\n",
       "       [9, 7, 7, 7, 6]])"
      ]
     },
     "execution_count": 74,
     "metadata": {},
     "output_type": "execute_result"
    }
   ],
   "source": [
    "# Сортировка по столбцам\n",
    "np.sort(X, axis=0)"
   ]
  },
  {
   "cell_type": "code",
   "execution_count": 75,
   "metadata": {},
   "outputs": [
    {
     "data": {
      "text/plain": [
       "array([[3, 4, 6, 6, 7],\n",
       "       [2, 4, 6, 7, 9],\n",
       "       [2, 3, 5, 7, 7]])"
      ]
     },
     "execution_count": 75,
     "metadata": {},
     "output_type": "execute_result"
    }
   ],
   "source": [
    "# по строкам\n",
    "np.sort(X, axis=1)"
   ]
  },
  {
   "cell_type": "markdown",
   "metadata": {},
   "source": [
    "## Частичное секционирование"
   ]
  },
  {
   "cell_type": "code",
   "execution_count": 76,
   "metadata": {},
   "outputs": [
    {
     "name": "stdout",
     "output_type": "stream",
     "text": [
      "[2 3 1 6 4 5]\n",
      "[1 2 4 3 5 6]\n"
     ]
    }
   ],
   "source": [
    "print(x)\n",
    "print(np.partition(x, 4)) # первые 4 элемента. Наименьшие значения в произвольном порядке, затем остальные, тоже в произвольном"
   ]
  },
  {
   "cell_type": "code",
   "execution_count": 77,
   "metadata": {
    "scrolled": true
   },
   "outputs": [
    {
     "name": "stdout",
     "output_type": "stream",
     "text": [
      "[[6 3 7 4 6]\n",
      " [9 2 6 7 4]\n",
      " [3 7 7 2 5]]\n"
     ]
    },
    {
     "data": {
      "text/plain": [
       "array([[3, 4, 6, 7, 6],\n",
       "       [2, 4, 6, 7, 9],\n",
       "       [2, 3, 5, 7, 7]])"
      ]
     },
     "execution_count": 77,
     "metadata": {},
     "output_type": "execute_result"
    }
   ],
   "source": [
    "# сортировка по оси\n",
    "print(X)\n",
    "np.partition(X, 2, axis=1)  # например, строке"
   ]
  },
  {
   "cell_type": "markdown",
   "metadata": {},
   "source": [
    "### Структурированные массивы Numpy(Py_WP p.123)\n",
    "### K ближайших соседей на основании partition(Py_WP p.119)"
   ]
  }
 ],
 "metadata": {
  "kernelspec": {
   "display_name": "Python 3",
   "language": "python",
   "name": "python3"
  },
  "language_info": {
   "codemirror_mode": {
    "name": "ipython",
    "version": 3
   },
   "file_extension": ".py",
   "mimetype": "text/x-python",
   "name": "python",
   "nbconvert_exporter": "python",
   "pygments_lexer": "ipython3",
   "version": "3.6.5"
  }
 },
 "nbformat": 4,
 "nbformat_minor": 2
}
