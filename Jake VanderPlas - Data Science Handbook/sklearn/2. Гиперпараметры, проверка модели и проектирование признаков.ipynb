{
 "cells": [
  {
   "cell_type": "markdown",
   "metadata": {},
   "source": [
    "Для оптимального выбора модели необходим способ проверки того, что конктретная модель с конкретными гиперпараметрами хорошо апроксимирует данные."
   ]
  },
  {
   "cell_type": "code",
   "execution_count": 1,
   "metadata": {},
   "outputs": [],
   "source": [
    "import pandas as pd\n",
    "import numpy as np\n",
    "import matplotlib.pyplot as plt\n",
    "import seaborn as sns; sns.set()"
   ]
  },
  {
   "cell_type": "markdown",
   "metadata": {},
   "source": [
    "# Проверка модели"
   ]
  },
  {
   "cell_type": "markdown",
   "metadata": {},
   "source": [
    "#### Плохой способ проверки модели"
   ]
  },
  {
   "cell_type": "code",
   "execution_count": 2,
   "metadata": {},
   "outputs": [],
   "source": [
    "from sklearn.datasets import load_iris\n",
    "iris = load_iris()\n",
    "X = iris.data\n",
    "y = iris.target"
   ]
  },
  {
   "cell_type": "code",
   "execution_count": 3,
   "metadata": {},
   "outputs": [
    {
     "data": {
      "text/plain": [
       "1.0"
      ]
     },
     "execution_count": 3,
     "metadata": {},
     "output_type": "execute_result"
    }
   ],
   "source": [
    "# Выбираем классификатор на основе метода k-средних с n_neighbors=1\n",
    "# Эту модель модно описать фразой - Метка для неизвестной точки такая же как и ближайшая к ней обучающей точки\n",
    "\n",
    "from sklearn.neighbors import KNeighborsClassifier\n",
    "model = KNeighborsClassifier(n_neighbors=1)\n",
    "model.fit(X, y)\n",
    "y_model = model.predict(X)\n",
    "\n",
    "# Вычисляем долю правильно маркированных точек\n",
    "from sklearn.metrics import accuracy_score \n",
    "accuracy_score(y, y_model)"
   ]
  },
  {
   "cell_type": "markdown",
   "metadata": {},
   "source": [
    "Показатель точности равен 100%, но есть одинс фундаментальный изъян в данной проверке - мы учимся и делаем проверку на одних и тех же данных."
   ]
  },
  {
   "cell_type": "markdown",
   "metadata": {},
   "source": [
    "#### Хороший способ проверки данных: отложенные данные"
   ]
  },
  {
   "cell_type": "code",
   "execution_count": 4,
   "metadata": {},
   "outputs": [
    {
     "data": {
      "text/plain": [
       "0.9066666666666666"
      ]
     },
     "execution_count": 4,
     "metadata": {},
     "output_type": "execute_result"
    }
   ],
   "source": [
    "# берем функцию из другого модуля(старая версия cross_validation)\n",
    "from sklearn.model_selection import train_test_split\n",
    "\n",
    "# разделяем данные пополам\n",
    "X1, X2, y1, y2 = train_test_split(X, y, random_state=0, test_size=0.5)\n",
    "\n",
    "# Обучаем на одном из наборов\n",
    "model.fit(X1, y1)\n",
    "\n",
    "# Оцениваем работу модели на другом наборе\n",
    "y2_model = model.predict(X2)\n",
    "accuracy_score(y2, y2_model)"
   ]
  },
  {
   "cell_type": "markdown",
   "metadata": {},
   "source": [
    "Главный недостаток данного метода заключается в том, что мы учили нашу модель только на половине данных.\n",
    "\n",
    "Один из сопсобов решения этой проблемы - перекрестная проверка."
   ]
  },
  {
   "cell_type": "code",
   "execution_count": 5,
   "metadata": {},
   "outputs": [
    {
     "data": {
      "text/plain": [
       "(0.96, 0.9066666666666666)"
      ]
     },
     "execution_count": 5,
     "metadata": {},
     "output_type": "execute_result"
    }
   ],
   "source": [
    "# Мы выполняем две попытки проверки, попеременно используя каждую половину данных в качестве отложенного набора данных.\n",
    "\n",
    "y2_model = model.fit(X1, y1).predict(X2)\n",
    "y1_model = model.fit(X2, y2).predict(X1)\n",
    "accuracy_score(y1, y1_model), accuracy_score(y2, y2_model)\n",
    "\n",
    "# Далее можно взять среднюю от этих цифр"
   ]
  },
  {
   "cell_type": "markdown",
   "metadata": {},
   "source": [
    "Этот конктретный вид перекрестной проверки называется двухблочной перекретсной проверкой(Two-fold cross-validation)\n",
    "\n",
    "Можно распространять эту идею на случай большего числа попыток."
   ]
  },
  {
   "cell_type": "code",
   "execution_count": 6,
   "metadata": {},
   "outputs": [
    {
     "data": {
      "text/plain": [
       "array([0.96666667, 0.96666667, 0.93333333, 0.93333333, 1.        ])"
      ]
     },
     "execution_count": 6,
     "metadata": {},
     "output_type": "execute_result"
    }
   ],
   "source": [
    "# Разбиваем данные на пять групп и по очереди используем каждую из них для проверки\n",
    "# Для этого есть удобная утилита cross_val_score, для большей краткости синтаксиса\n",
    "\n",
    "from sklearn.model_selection import cross_val_score\n",
    "cross_val_score(model, X, y, cv=5)"
   ]
  },
  {
   "cell_type": "markdown",
   "metadata": {},
   "source": [
    "Библиотека Scikit-learn реализует множество способов перекретсной проверки. Они находятся в модуле model_selection(старый cross_validation)"
   ]
  },
  {
   "cell_type": "code",
   "execution_count": 7,
   "metadata": {},
   "outputs": [
    {
     "name": "stderr",
     "output_type": "stream",
     "text": [
      "C:\\Anaconda3\\lib\\site-packages\\sklearn\\cross_validation.py:41: DeprecationWarning: This module was deprecated in version 0.18 in favor of the model_selection module into which all the refactored classes and functions are moved. Also note that the interface of the new CV iterators are different from that of this module. This module will be removed in 0.20.\n",
      "  \"This module will be removed in 0.20.\", DeprecationWarning)\n"
     ]
    },
    {
     "data": {
      "text/plain": [
       "array([1., 1., 1., 1., 1., 1., 1., 1., 1., 1., 1., 1., 1., 1., 1., 1., 1.,\n",
       "       1., 1., 1., 1., 1., 1., 1., 1., 1., 1., 1., 1., 1., 1., 1., 1., 1.,\n",
       "       1., 1., 1., 1., 1., 1., 1., 1., 1., 1., 1., 1., 1., 1., 1., 1., 1.,\n",
       "       1., 1., 1., 1., 1., 1., 1., 1., 1., 1., 1., 1., 1., 1., 1., 1., 1.,\n",
       "       1., 1., 0., 1., 0., 1., 1., 1., 1., 1., 1., 1., 1., 1., 1., 0., 1.,\n",
       "       1., 1., 1., 1., 1., 1., 1., 1., 1., 1., 1., 1., 1., 1., 1., 1., 1.,\n",
       "       1., 1., 1., 1., 0., 1., 1., 1., 1., 1., 1., 1., 1., 1., 1., 1., 1.,\n",
       "       0., 1., 1., 1., 1., 1., 1., 1., 1., 1., 1., 1., 1., 1., 0., 1., 1.,\n",
       "       1., 1., 1., 1., 1., 1., 1., 1., 1., 1., 1., 1., 1., 1.])"
      ]
     },
     "execution_count": 7,
     "metadata": {},
     "output_type": "execute_result"
    }
   ],
   "source": [
    "# Например мы берем предельный случай проверки, когда кол-во блоков равно кол-ву точек в данных.\n",
    "# Такой тип перекрестной проверки известен под названием\n",
    "# перекрестной проверки по отдельным объектам(leave-one-out cross-validation)\n",
    "\n",
    "from sklearn.cross_validation import LeaveOneOut\n",
    "scores = cross_val_score(model, X, y, cv=LeaveOneOut(len(X)))\n",
    "scores\n",
    "# такая оценка дает нам результаты по всем 150 попыткам "
   ]
  },
  {
   "cell_type": "code",
   "execution_count": 8,
   "metadata": {},
   "outputs": [
    {
     "data": {
      "text/plain": [
       "0.96"
      ]
     },
     "execution_count": 8,
     "metadata": {},
     "output_type": "execute_result"
    }
   ],
   "source": [
    "# Среднее значение этих результатов дает нам общую оценку частоты ошибок\n",
    "scores.mean()"
   ]
  },
  {
   "cell_type": "markdown",
   "metadata": {},
   "source": [
    "# Выбор оптимальной модели"
   ]
  },
  {
   "cell_type": "markdown",
   "metadata": {},
   "source": [
    "Что делать, если наш оцениватель показывает недостаточно хорошие результаты? Существует несколько возможных ответов:\n",
    "- использовать более сложную/гибкую модель;\n",
    "- применять менее сложную/гибкую модель;\n",
    "- собрать больше выборок для обучения;\n",
    "- собрать больше данных для добавления новых признаков к каждой заданной выборке.\n",
    "\n",
    "В частности, иногда использование более сложной модели приводит к худшим результатам, а добавление новых выборок не приводит к улучшению."
   ]
  },
  {
   "cell_type": "code",
   "execution_count": 9,
   "metadata": {},
   "outputs": [],
   "source": [
    "# Рассмотрим модель полиноминальной регрессии\n",
    "# В библиотеке Scikit-learn ее можно реализовать с помощью простой линейной регрессии \n",
    "# в сочетании с полиноминальным препроцессором. \n",
    "\n",
    "# Мы воспользуемся Конвейером(pipeline) для соединения этих операций в единую цепочку\n",
    "\n",
    "# Конвейер и полиноминальные признаки рассмотрим подробнее позже.\n",
    "\n",
    "from sklearn.preprocessing import PolynomialFeatures\n",
    "from sklearn.linear_model import LinearRegression\n",
    "from sklearn.pipeline import make_pipeline\n",
    "\n",
    "def PolynomialRegression(degree=2, **kwargs):\n",
    "    return make_pipeline(PolynomialFeatures(degree),\n",
    "                         LinearRegression(**kwargs))"
   ]
  },
  {
   "cell_type": "code",
   "execution_count": 10,
   "metadata": {},
   "outputs": [
    {
     "data": {
      "image/png": "[encoded data removed]",
      "text/plain": [
       "<Figure size 432x288 with 1 Axes>"
      ]
     },
     "metadata": {},
     "output_type": "display_data"
    }
   ],
   "source": [
    "# Создадим данные, на которых будем обучать нашу модель\n",
    "def make_data(N, err=1.0, rseed=1):\n",
    "    rng = np.random.RandomState(rseed)\n",
    "    X = rng.rand(N, 1) ** 2\n",
    "    y = 10 - 1. / (X.ravel() + 0.1)\n",
    "    if err > 0:\n",
    "        y += err * rng.randn(N)\n",
    "    return X, y\n",
    "\n",
    "X, y = make_data(40)\n",
    "plt.scatter(X, y, s=10);"
   ]
  },
  {
   "cell_type": "code",
   "execution_count": 11,
   "metadata": {},
   "outputs": [],
   "source": [
    "from sklearn.metrics import r2_score"
   ]
  },
  {
   "cell_type": "markdown",
   "metadata": {},
   "source": [
    "**R$^2$** - коэффициент детерминации или коэф. смешанной корреляции. Он показывает насколько хорошо работает алгоритм в сравнении с простым средним значением целевых величин.  \n",
    "**R$^2$ = 1** означает идеальное совпадение,  \n",
    "**R$^2$ = 0** показывает, что модель оказалась ничем не лучше простого среднего значения данных,  \n",
    "**R$^2$ < 0** значит модель работает еще хуже."
   ]
  },
  {
   "cell_type": "code",
   "execution_count": 12,
   "metadata": {},
   "outputs": [
    {
     "data": {
      "image/png": "[encoded data removed]",
      "text/plain": [
       "<Figure size 432x288 with 1 Axes>"
      ]
     },
     "metadata": {},
     "output_type": "display_data"
    },
    {
     "data": {
      "image/png": "[encoded data removed]",
      "text/plain": [
       "<Figure size 432x288 with 1 Axes>"
      ]
     },
     "metadata": {},
     "output_type": "display_data"
    }
   ],
   "source": [
    "X_test = np.linspace(-0.1, 1.1, 500)[:, None]\n",
    "X1, X2, y1, y2 = train_test_split(X, y, random_state=42, test_size=0.2)\n",
    "\n",
    "for degree in [1, 20]:\n",
    "    model = PolynomialRegression(degree).fit(X1, y1)\n",
    "    \n",
    "    y_test = model.predict(X_test)\n",
    "    y_model1 = model.predict(X1)\n",
    "    y_model2 = model.predict(X2)\n",
    "    \n",
    "    r_sc1 = np.round(r2_score(y1, y_model1), 2)\n",
    "    r_sc2 = np.round(r2_score(y2, y_model2), 2)\n",
    "    \n",
    "    plt.figure()\n",
    "    #plt.scatter(X.ravel(), y, s=15, color='black')\n",
    "    plt.scatter(X1, y1, s=15, color='green')\n",
    "    plt.scatter(X2, y2, s=15, color='red')\n",
    "    plt.plot(X_test.ravel(), y_test,\n",
    "             label='Оценка обучения: R$^2$={}\\nОценка проверки: R$^2$={}'.format(r_sc1, r_sc2))\n",
    "    plt.xlim(-0.1, 1.0)\n",
    "    plt.ylim(-2, 12)\n",
    "    plt.legend(loc='best', fontsize=12)\n",
    "    plt.title('Модель полиноминальная регрессии {}-й степени'.format(degree), fontsize=14)\n",
    "    plt.xlabel('')"
   ]
  },
  {
   "cell_type": "markdown",
   "metadata": {},
   "source": [
    "    Выбор оптимальной модели состоит в поиске наилучшего компромисса между систематической ошибкой(bias) и дисперсией(variance).\n",
    "\n",
    "    Как мы видим на графиках выше, обе модели не слишком хорошо апроксимируют наши данные, но проблемы в них различны.\n",
    "\n",
    "    1. Первая модель недообучена т.к. она слишком проста для внутренней структуры данных и не может описать ее достаточно хорошо. У этой модели имеется значительная систематическая ошибка(bias).\n",
    "    2. Вторая же модель пытается подобрать для наших данных многочлен высокой степени. И в этом случае модель достаточно гибка, чтобы практически идеально соответствовать данными обучающей выборки. Но хотя она и хорошо описываtn обучающую последовательность, ее результат скорее описывает шум в данных, чем внутренние свойства процесса. О подобной модели говорят, что она переобучена. Т.е. гибкость модели такова, что она в конце концов учитывает не только исходное распределние данных, но и случайные ошибки в них. У этой модели имеется высокая дисперсия(vzriance)"
   ]
  },
  {
   "cell_type": "code",
   "execution_count": 13,
   "metadata": {},
   "outputs": [
    {
     "data": {
      "image/png": "[encoded data removed]",
      "text/plain": [
       "<Figure size 432x288 with 1 Axes>"
      ]
     },
     "metadata": {},
     "output_type": "display_data"
    }
   ],
   "source": [
    "# Визуализируем наши данные вместе с несколькими обученными моделями различных степеней\n",
    "X_test = np.linspace(-0.1, 1.1, 500)[:, None]\n",
    "X1, X2, y1, y2 = train_test_split(X, y, random_state=42, test_size=0.2)\n",
    "plt.scatter(X.ravel(), y, s=15, color='black')\n",
    "axis = plt.axis()\n",
    "\n",
    "for degree in [1, 3, 5, 7]:\n",
    "    y_test = PolynomialRegression(degree).fit(X1, y1).predict(X_test)\n",
    "\n",
    "    plt.plot(X_test.ravel(), y_test, label='Степень={}'.format(degree))\n",
    "plt.xlim(-0.1, 1.0)\n",
    "plt.ylim(-2, 12)\n",
    "plt.legend(loc='best', fontsize=12);"
   ]
  },
  {
   "cell_type": "markdown",
   "metadata": {},
   "source": [
    "    Какая же сложность модели дает лучшее приближение к данным? Параметром служащим для управления сложностью модели в данном случае служит степень сногочлена регрессии. Какая же степень обеспечивает подходящий компромисс между систематической ошибкой(недообучение) и высокой дисперсией(переобучение)."
   ]
  },
  {
   "cell_type": "markdown",
   "metadata": {},
   "source": [
    "## Кривая проверки"
   ]
  },
  {
   "cell_type": "markdown",
   "metadata": {},
   "source": [
    "    Чтобы решить данный вопрос визуализируем зависимость качества работы модели от ее сложности(в данном случае степени многочлена). Удобно сделать это с помощью утилиты validation_curve. Эта функция получив на вход модель, данные, название парметра и диапазон анализа, автоматически вычисляет в этом диапазоне значение эффектичности обучения и проверки."
   ]
  },
  {
   "cell_type": "code",
   "execution_count": 14,
   "metadata": {
    "scrolled": true
   },
   "outputs": [
    {
     "data": {
      "image/png": "[encoded data removed]",
      "text/plain": [
       "<Figure size 576x360 with 1 Axes>"
      ]
     },
     "metadata": {},
     "output_type": "display_data"
    }
   ],
   "source": [
    "from sklearn.model_selection import validation_curve\n",
    "degree = np.arange(0, 21)\n",
    "train_score, val_score = validation_curve(PolynomialRegression(), X, y,\n",
    "                                          'polynomialfeatures__degree',\n",
    "                                          degree, cv=7) # получаем семь вариантов на каждую степень\n",
    "#np.median()\n",
    "fig = plt.figure(figsize=(8, 5))\n",
    "# Берем средний(по медиане) из семи вариантов для построения графиков\n",
    "plt.plot(degree, np.median(train_score, 1), color='blue', label='Оценка обучения')\n",
    "plt.plot(degree, np.median(val_score, 1), color='red', label='Оценка проверки')\n",
    "\n",
    "plt.legend(loc='best')\n",
    "plt.ylim(0, 1)\n",
    "plt.xlabel('Степень')\n",
    "plt.ylabel('Оценка');"
   ]
  },
  {
   "cell_type": "markdown",
   "metadata": {},
   "source": [
    "Показанный на рисунке график называют кривой проверки(Validation curve). Он имеет следующий особенности:\n",
    "* Оценка эффективности для обучения всегда превышает оценку эффективности для проверки.\n",
    "* Модели с низкой сложностью(со значительной систематической ошибкой) являются недообучеными, т.е. эти модели будут одинаково плохо предсказывать как данные обучающей выборки, так и любые ранее не виденные ими данные.\n",
    "* Модели с очень высокой сложностью(с высокой дисперсией) являются переобученными, т.е. будут очень хорошо пресказывать данные обучающей последовательности, но на любых ранее не виденных данных работать очень плохо.\n",
    "* Кривая проверки достигает максимума в какой-то промежуточной точке. Этот уровень сложности означает приемлемый компромисс между систематической ошибкой и дисперсией.\n",
    "\n",
    "Средства регулирования сложности зависят от модели."
   ]
  },
  {
   "cell_type": "markdown",
   "metadata": {},
   "source": [
    "Судя по графику. Оптимальный компромисс между систематической ошибкой и дисперсией достигается для многочлена третьей степени."
   ]
  },
  {
   "cell_type": "code",
   "execution_count": 15,
   "metadata": {},
   "outputs": [
    {
     "data": {
      "image/png": "[encoded data removed]",
      "text/plain": [
       "<Figure size 432x288 with 1 Axes>"
      ]
     },
     "metadata": {},
     "output_type": "display_data"
    }
   ],
   "source": [
    "plt.scatter(X.ravel(), y, s=15)\n",
    "lim = plt.axis()\n",
    "y_test = PolynomialRegression(3).fit(X, y).predict(X_test)\n",
    "plt.plot(X_test.ravel(), y_test);\n",
    "plt.axis(lim);"
   ]
  },
  {
   "cell_type": "markdown",
   "metadata": {},
   "source": [
    "## Кривые обучения"
   ]
  },
  {
   "cell_type": "markdown",
   "metadata": {},
   "source": [
    "Важный нюанс выбора сложности модели состоит в том, что оптимальность модели обычно зависит от размера обучающей выборки."
   ]
  },
  {
   "cell_type": "code",
   "execution_count": 16,
   "metadata": {},
   "outputs": [
    {
     "data": {
      "image/png": "[encoded data removed]",
      "text/plain": [
       "<Figure size 432x288 with 1 Axes>"
      ]
     },
     "metadata": {},
     "output_type": "display_data"
    }
   ],
   "source": [
    "# Например сгенерируем в пять раз больше данных для нашей модели.\n",
    "X_n, y_n = make_data(200)\n",
    "plt.scatter(X_n.ravel(), y_n, s=15);"
   ]
  },
  {
   "cell_type": "markdown",
   "metadata": {},
   "source": [
    "Повторим вышеприведенный код ***Кривой проверки*** для этого большего набора данных, выведя для сравнения предыдущие графики."
   ]
  },
  {
   "cell_type": "code",
   "execution_count": 17,
   "metadata": {},
   "outputs": [
    {
     "data": {
      "image/png": "[encoded data removed]",
      "text/plain": [
       "<Figure size 576x360 with 1 Axes>"
      ]
     },
     "metadata": {},
     "output_type": "display_data"
    }
   ],
   "source": [
    "degree = np.arange(21)\n",
    "train_score2, val_score2 = validation_curve(PolynomialRegression(), X_n, y_n,\n",
    "                                            'polynomialfeatures__degree',\n",
    "                                            degree, cv=7)\n",
    "\n",
    "fig = plt.figure(figsize=(8, 5))\n",
    "\n",
    "plt.plot(degree, np.median(train_score2, 1), color='blue', label='Оценка обучения')\n",
    "plt.plot(degree, np.median(val_score2, 1), color='red', label='Оценка проверки')\n",
    "\n",
    "plt.plot(degree, np.median(train_score, 1), color='blue', linestyle='dashed', alpha=0.4)\n",
    "plt.plot(degree, np.median(val_score, 1), color='red', linestyle='dashed', alpha=0.4)\n",
    "\n",
    "plt.legend(loc='lower center')\n",
    "plt.ylim(0, 1)\n",
    "plt.xlabel('Степень')\n",
    "plt.ylabel('Оценка');"
   ]
  },
  {
   "cell_type": "markdown",
   "metadata": {},
   "source": [
    "Таким образом, мы видим, что поведение кривой проверки зависит не от одного, а от двух важных факторов: сложности модели и количества точек обучения. Зачастую бывает полезно исследовать поведение модели как функции от количества точек. Сделать это можно путем использования постепенно увеличивающихся подмножеств данных для обучения модели."
   ]
  },
  {
   "cell_type": "markdown",
   "metadata": {},
   "source": [
    "Библиотека Scikit-learn предоставляет удобные утилиты для вычисления ***кривых обучения*** для моделей - learning_curve."
   ]
  },
  {
   "cell_type": "code",
   "execution_count": 18,
   "metadata": {
    "scrolled": false
   },
   "outputs": [
    {
     "data": {
      "image/png": "[encoded data removed]",
      "text/plain": [
       "<Figure size 1152x432 with 2 Axes>"
      ]
     },
     "metadata": {},
     "output_type": "display_data"
    }
   ],
   "source": [
    "# Вычислим кривую обучения для нашего набора данных второй и девятой степени.\n",
    "from sklearn.model_selection import learning_curve\n",
    "\n",
    "fig, ax = plt.subplots(1, 2, figsize=(16, 6))\n",
    "fig.subplots_adjust(left=0.0625, right=0.95, wspace=0.1)\n",
    "\n",
    "for i, degree in enumerate([2, 9]):\n",
    "    N, train_lc, val_lc = learning_curve(PolynomialRegression(degree),\n",
    "                                         X, y, cv=7, train_sizes=np.linspace(0.3, 1, 25))\n",
    "    \n",
    "    ax[i].plot(N, np.mean(train_lc, 1), color='blue', label='Оценка обучения')\n",
    "    ax[i].plot(N, np.mean(val_lc, 1), color='red', label='Оценка проверки')\n",
    "    ax[i].hlines(np.mean([train_lc[-1], val_lc[-1]]), N[0], N[-1], color='gray', linestyle='dashed')\n",
    "    \n",
    "    ax[i].tick_params(labelsize=13)\n",
    "    ax[i].set_ylim(0, 1)\n",
    "    ax[i].set_xlim(N[0], N[-1])\n",
    "    ax[i].set_xlabel('Размерность обучения', size=15)\n",
    "    ax[i].set_ylabel('Оценка', size=15)\n",
    "    ax[i].set_title('Степень = {}'.format(degree), size=15)\n",
    "    ax[i].legend(loc='best', fontsize=12)"
   ]
  },
  {
   "cell_type": "markdown",
   "metadata": {},
   "source": [
    "Этот показатель демонстрирует как наша модель реагирует на увеличение объема обучающих данных. В частности, после того как кривая обучения уже сошлась к какому-то значению(т.е. когда кривые проверки и обучения уже близки друг к другу), ***добавление дополнительных обучающих данных данных не улучшит аппроксимацию существенно***. Такая ситуация отражена на левом рисунке с кривой обучения для модели второй степени.\n",
    "\n",
    "Единственный способ улучшения оценки уже сошедшейся кривой - использовать другую(обычно более сложную) модель. Это видно на правом рисунке: перейдя к более сложной модели, мы улучшаем оценку для точки сходимости (отмеченную штриховой линией) за счет более высокой дисперсии модели(соответствующей расстоянию между оценками эффективности для обучения и проверки). Если бы нам пришлось добавить еще больше точек, кривая обучения для более сложной из этих моделей все равно в итоге бы сошлась."
   ]
  },
  {
   "cell_type": "markdown",
   "metadata": {},
   "source": [
    "Поведение кривой обучения должно быть следующим:\n",
    "* Модель заданной сложности окажется **переобученной** на слишком маленьком наборе данных. Это значит, что оценка эффективности для обучения будет относительно высокой, а оценка эффективности для проверки - относительно низкой. *Проверочных данных недостаточно, чтобы модель подстроилась и могла давать приемлемые результаты даже на точкам, которые не видела.*\n",
    "* Модель заданной сложности окажется **\"недообученной\"** на слишком большом наборе данных. Это значит, что оценка эффективности для обучения будет снижаться, а оценка эффективности для проверки - повышаться по мере роста размера набора данных. Значит модель все больше будет подстраиваться под общую структуру данных, а не конкретного данного набора.\n",
    "* Модель никогда, разве что случайно, не покажет на проверочном наборе лучший результат, чем на обучающей последовательности. Это означает, что кривые будут сближаться, но никогда не пересекуться."
   ]
  },
  {
   "cell_type": "markdown",
   "metadata": {},
   "source": [
    "## Проверка на практике: поиск по сетке"
   ]
  },
  {
   "cell_type": "markdown",
   "metadata": {},
   "source": [
    "На практике у моделей обычно больше одного параметра, поэтому графики кривых проверки и обучения превращаются из двумерных линий в многомерные поверхности. Выполнение подобных визуализаций в подобной ситуации представляет собой непростую задачу, поэтому лучше отыскать конкретную модель при которой оценка эффективности достигает максимума.\n",
    "\n",
    "В библиотеке Scikit-learn есть специальные инструменты содержащиеся в модуле **grid_search**. Рассмотрим трехмерную сетку признаков модели - степень многочлена, флага указывающего нужно ли подбирать точку пересечения с осью ординат, и флага, указывающего следует ли выполнять нормализацию. Выполнить это можно с помощью оценивателя **GridSearchCV**."
   ]
  },
  {
   "cell_type": "code",
   "execution_count": 19,
   "metadata": {},
   "outputs": [
    {
     "name": "stderr",
     "output_type": "stream",
     "text": [
      "C:\\Anaconda3\\lib\\site-packages\\sklearn\\grid_search.py:42: DeprecationWarning: This module was deprecated in version 0.18 in favor of the model_selection module into which all the refactored classes and functions are moved. This module will be removed in 0.20.\n",
      "  DeprecationWarning)\n"
     ]
    }
   ],
   "source": [
    "from sklearn.grid_search import GridSearchCV\n",
    "\n",
    "param_grid = {'polynomialfeatures__degree': np.arange(21),\n",
    "              'linearregression__fit_intercept': [True, False],\n",
    "              'linearregression__normalize': [True, False]}\n",
    "\n",
    "grid = GridSearchCV(PolynomialRegression(), param_grid, cv=7)\n",
    "grid.fit(X, y);"
   ]
  },
  {
   "cell_type": "code",
   "execution_count": 20,
   "metadata": {},
   "outputs": [
    {
     "name": "stdout",
     "output_type": "stream",
     "text": [
      "лучший результат:  0.8956938691106144\n",
      "при следующих параметрах:\n"
     ]
    },
    {
     "data": {
      "text/plain": [
       "{'linearregression__fit_intercept': False,\n",
       " 'linearregression__normalize': True,\n",
       " 'polynomialfeatures__degree': 4}"
      ]
     },
     "execution_count": 20,
     "metadata": {},
     "output_type": "execute_result"
    }
   ],
   "source": [
    "print('лучший результат: ', grid.best_score_)\n",
    "print('при следующих параметрах:')\n",
    "grid.best_params_"
   ]
  },
  {
   "cell_type": "code",
   "execution_count": 21,
   "metadata": {},
   "outputs": [
    {
     "data": {
      "image/png": "[encoded data removed]",
      "text/plain": [
       "<Figure size 432x288 with 1 Axes>"
      ]
     },
     "metadata": {},
     "output_type": "display_data"
    }
   ],
   "source": [
    "model = grid.best_estimator_\n",
    "\n",
    "plt.scatter(X, y, s=15)\n",
    "lim = plt.axis()\n",
    "\n",
    "y_model = model.fit(X, y).predict(X_test)\n",
    "plt.plot(X_test, y_model)\n",
    "plt.axis(lim);"
   ]
  },
  {
   "cell_type": "markdown",
   "metadata": {},
   "source": [
    "У поиска по сетке множество опций, включая возможности задания пользовательской функции оценки эффективности, распараллеливания вычислений, выполнения случайного поиска и др. Дополнительные примеры в ***Заглянем глубже: ядерная оценка плотности распределения*** и ***Прикладная задача: конвейер распознавания лиц***."
   ]
  },
  {
   "cell_type": "markdown",
   "metadata": {},
   "source": [
    "## Проетирование признаков"
   ]
  },
  {
   "cell_type": "markdown",
   "metadata": {},
   "source": [
    "На вход модели в машинном обучении должны получать матрицы цифр в формате```[n_samples, n_features]```."
   ]
  },
  {
   "cell_type": "markdown",
   "metadata": {},
   "source": [
    "### Категориальные признаки "
   ]
  },
  {
   "cell_type": "code",
   "execution_count": 22,
   "metadata": {},
   "outputs": [],
   "source": [
    "# Допустим у нас есть данные по ценам на жилье\n",
    "# и помимо цен и количества комнат у нас есть информация о микрорайоне\n",
    "data = [\n",
    "    {'price': 850000, 'rooms': 4, 'neghborhood': 'Queen Anne'},\n",
    "    {'price': 700000, 'rooms': 3, 'neghborhood': 'Fremont'},\n",
    "    {'price': 650000, 'rooms': 3, 'neghborhood': 'Wallingford'},\n",
    "    {'price': 600000, 'rooms': 2, 'neghborhood': 'Fremont'}\n",
    "       ]"
   ]
  },
  {
   "cell_type": "markdown",
   "metadata": {},
   "source": [
    "Чтобы привести данные в цифровую форму **не достаточно, просто присвоить каждому району цифру**, т.к. модель машинного обучения будет считать, например, что *Queen Anne < Fremont < Wallingford* или даже *Wallingford - Queen Anne = Fremont*\n",
    "\n",
    "Испытанным методом для такого случая является **прямое кодирование(one-hot encoding)**, создающее по столбцу индикатору для каждой категории и заполняющую их 1(наличие) или 0(отсутствие). При наличии данных в виде списка словарей можно воспользоваться утилитой DictVectorizer библиотеки Scikit-learn"
   ]
  },
  {
   "cell_type": "code",
   "execution_count": 23,
   "metadata": {},
   "outputs": [
    {
     "data": {
      "text/plain": [
       "array([[     0,      1,      0, 850000,      4],\n",
       "       [     1,      0,      0, 700000,      3],\n",
       "       [     0,      0,      1, 650000,      3],\n",
       "       [     1,      0,      0, 600000,      2]], dtype=int32)"
      ]
     },
     "execution_count": 23,
     "metadata": {},
     "output_type": "execute_result"
    }
   ],
   "source": [
    "from sklearn.feature_extraction import DictVectorizer\n",
    "vec = DictVectorizer(sparse=False, dtype=int)\n",
    "vec.fit_transform(data)"
   ]
  },
  {
   "cell_type": "markdown",
   "metadata": {},
   "source": [
    "neighborhood превратился в три отдельных столбца, отражающих метки микрорайонов. После подобного кодирования можно обучать модель Scikit-learn."
   ]
  },
  {
   "cell_type": "code",
   "execution_count": 24,
   "metadata": {},
   "outputs": [
    {
     "data": {
      "text/plain": [
       "['neghborhood=Fremont',\n",
       " 'neghborhood=Queen Anne',\n",
       " 'neghborhood=Wallingford',\n",
       " 'price',\n",
       " 'rooms']"
      ]
     },
     "execution_count": 24,
     "metadata": {},
     "output_type": "execute_result"
    }
   ],
   "source": [
    "# Чтобы узнать, что означает каждый столбец, можно посмотреть названия признаков:\n",
    "vec.get_feature_names()"
   ]
  },
  {
   "cell_type": "markdown",
   "metadata": {},
   "source": [
    "У этого подхода есть один недостаток: если количество значений категорий велико, размер набора данных может значеительно вырасти. Однако поскольку кодированные данные состоят в основном из нулей, эфективным будет разреженные формат вывода."
   ]
  },
  {
   "cell_type": "code",
   "execution_count": 25,
   "metadata": {},
   "outputs": [
    {
     "data": {
      "text/plain": [
       "<4x5 sparse matrix of type '<class 'numpy.int32'>'\n",
       "\twith 12 stored elements in Compressed Sparse Row format>"
      ]
     },
     "execution_count": 25,
     "metadata": {},
     "output_type": "execute_result"
    }
   ],
   "source": [
    "vec = DictVectorizer(sparse=True, dtype=int)\n",
    "vec.fit_transform(data)"
   ]
  },
  {
   "cell_type": "markdown",
   "metadata": {},
   "source": [
    "Для поддержки подобного кодирования библиотека Scikit-learn включает две дополниительные утилиты: ***sklearn.preprocessing.OneHotEncoder*** и ***sklearn.feature_extraction.FeatureHasher***"
   ]
  },
  {
   "cell_type": "markdown",
   "metadata": {},
   "source": [
    "### Текстовые признаки"
   ]
  },
  {
   "cell_type": "markdown",
   "metadata": {},
   "source": [
    "При проектировании признаков часто требуется преобразовать текст в набор репрзентативных числовых значений. Например один из простейших методов кодирования текста по количеству слов: для каждого фрагмента текста подсчитывается количество вхождений в него каждого из слов. "
   ]
  },
  {
   "cell_type": "code",
   "execution_count": 26,
   "metadata": {},
   "outputs": [],
   "source": [
    "# Рассмотрим следующий пример\n",
    "sample = ['problem of evil',\n",
    "          'evil queen',\n",
    "          'horizon problem']"
   ]
  },
  {
   "cell_type": "code",
   "execution_count": 27,
   "metadata": {},
   "outputs": [
    {
     "data": {
      "text/plain": [
       "<3x5 sparse matrix of type '<class 'numpy.int64'>'\n",
       "\twith 7 stored elements in Compressed Sparse Row format>"
      ]
     },
     "execution_count": 27,
     "metadata": {},
     "output_type": "execute_result"
    }
   ],
   "source": [
    "# Простое решение данной задачи в Scikir-learn\n",
    "from sklearn.feature_extraction.text import CountVectorizer\n",
    "vec = CountVectorizer()\n",
    "X = vec.fit_transform(sample)\n",
    "X"
   ]
  },
  {
   "cell_type": "markdown",
   "metadata": {},
   "source": [
    "Результат представляет разреженную матрицу, содержащую количество вхождений каждого из слов."
   ]
  },
  {
   "cell_type": "code",
   "execution_count": 28,
   "metadata": {},
   "outputs": [
    {
     "data": {
      "text/html": [
       "<div>\n",
       "<style scoped>\n",
       "    .dataframe tbody tr th:only-of-type {\n",
       "        vertical-align: middle;\n",
       "    }\n",
       "\n",
       "    .dataframe tbody tr th {\n",
       "        vertical-align: top;\n",
       "    }\n",
       "\n",
       "    .dataframe thead th {\n",
       "        text-align: right;\n",
       "    }\n",
       "</style>\n",
       "<table border=\"1\" class=\"dataframe\">\n",
       "  <thead>\n",
       "    <tr style=\"text-align: right;\">\n",
       "      <th></th>\n",
       "      <th>evil</th>\n",
       "      <th>horizon</th>\n",
       "      <th>of</th>\n",
       "      <th>problem</th>\n",
       "      <th>queen</th>\n",
       "    </tr>\n",
       "  </thead>\n",
       "  <tbody>\n",
       "    <tr>\n",
       "      <th>0</th>\n",
       "      <td>1</td>\n",
       "      <td>0</td>\n",
       "      <td>1</td>\n",
       "      <td>1</td>\n",
       "      <td>0</td>\n",
       "    </tr>\n",
       "    <tr>\n",
       "      <th>1</th>\n",
       "      <td>1</td>\n",
       "      <td>0</td>\n",
       "      <td>0</td>\n",
       "      <td>0</td>\n",
       "      <td>1</td>\n",
       "    </tr>\n",
       "    <tr>\n",
       "      <th>2</th>\n",
       "      <td>0</td>\n",
       "      <td>1</td>\n",
       "      <td>0</td>\n",
       "      <td>1</td>\n",
       "      <td>0</td>\n",
       "    </tr>\n",
       "  </tbody>\n",
       "</table>\n",
       "</div>"
      ],
      "text/plain": [
       "   evil  horizon  of  problem  queen\n",
       "0     1        0   1        1      0\n",
       "1     1        0   0        0      1\n",
       "2     0        1   0        1      0"
      ]
     },
     "execution_count": 28,
     "metadata": {},
     "output_type": "execute_result"
    }
   ],
   "source": [
    "pd.DataFrame(X.toarray(), columns=vec.get_feature_names())"
   ]
  },
  {
   "cell_type": "markdown",
   "metadata": {},
   "source": [
    "У этого подхода существуют проблемы: использоание непосредственно количества слов ведет к признакам, с которыми встречающимся очень часто словам придается очень большое значение, а это в некоторых алгоритмах классификации оказывается не оптимальным. Один из подходов к решению данной проблемы известен под названием \"Терма-обратная частотность документа\" или **TF-IDF**. При нем оба слова получают вес с учетом частоты их появления во всех документах."
   ]
  },
  {
   "cell_type": "code",
   "execution_count": 29,
   "metadata": {},
   "outputs": [
    {
     "data": {
      "text/html": [
       "<div>\n",
       "<style scoped>\n",
       "    .dataframe tbody tr th:only-of-type {\n",
       "        vertical-align: middle;\n",
       "    }\n",
       "\n",
       "    .dataframe tbody tr th {\n",
       "        vertical-align: top;\n",
       "    }\n",
       "\n",
       "    .dataframe thead th {\n",
       "        text-align: right;\n",
       "    }\n",
       "</style>\n",
       "<table border=\"1\" class=\"dataframe\">\n",
       "  <thead>\n",
       "    <tr style=\"text-align: right;\">\n",
       "      <th></th>\n",
       "      <th>evil</th>\n",
       "      <th>horizon</th>\n",
       "      <th>of</th>\n",
       "      <th>problem</th>\n",
       "      <th>queen</th>\n",
       "    </tr>\n",
       "  </thead>\n",
       "  <tbody>\n",
       "    <tr>\n",
       "      <th>0</th>\n",
       "      <td>0.517856</td>\n",
       "      <td>0.000000</td>\n",
       "      <td>0.680919</td>\n",
       "      <td>0.517856</td>\n",
       "      <td>0.000000</td>\n",
       "    </tr>\n",
       "    <tr>\n",
       "      <th>1</th>\n",
       "      <td>0.605349</td>\n",
       "      <td>0.000000</td>\n",
       "      <td>0.000000</td>\n",
       "      <td>0.000000</td>\n",
       "      <td>0.795961</td>\n",
       "    </tr>\n",
       "    <tr>\n",
       "      <th>2</th>\n",
       "      <td>0.000000</td>\n",
       "      <td>0.795961</td>\n",
       "      <td>0.000000</td>\n",
       "      <td>0.605349</td>\n",
       "      <td>0.000000</td>\n",
       "    </tr>\n",
       "  </tbody>\n",
       "</table>\n",
       "</div>"
      ],
      "text/plain": [
       "       evil   horizon        of   problem     queen\n",
       "0  0.517856  0.000000  0.680919  0.517856  0.000000\n",
       "1  0.605349  0.000000  0.000000  0.000000  0.795961\n",
       "2  0.000000  0.795961  0.000000  0.605349  0.000000"
      ]
     },
     "execution_count": 29,
     "metadata": {},
     "output_type": "execute_result"
    }
   ],
   "source": [
    "from sklearn.feature_extraction.text import TfidfVectorizer\n",
    "vec = TfidfVectorizer()\n",
    "X = vec.fit_transform(sample)\n",
    "pd.DataFrame(X.toarray(), columns=vec.get_feature_names())"
   ]
  },
  {
   "cell_type": "markdown",
   "metadata": {},
   "source": [
    "### Признаки для изображений"
   ]
  },
  {
   "cell_type": "markdown",
   "metadata": {},
   "source": [
    "Можно найти множество стандартных подходов в проекте [Scikit-learn](http://scikit-image.org)"
   ]
  },
  {
   "cell_type": "markdown",
   "metadata": {},
   "source": [
    "### Производные признаки"
   ]
  },
  {
   "cell_type": "markdown",
   "metadata": {},
   "source": [
    "Признаки можно выводить математически из входных. Например, при преобразовании линейной регрессии в полиноминальную, мы можем не изменять модель, а изменить входные данные. Этот метод называется ***Регрессией по комбинации базисных функций*** (basis function regression). \n",
    "\n",
    "Например следующие данные нельзя адекватено описать с помощью линии."
   ]
  },
  {
   "cell_type": "code",
   "execution_count": 30,
   "metadata": {},
   "outputs": [
    {
     "data": {
      "image/png": "[encoded data removed]",
      "text/plain": [
       "<Figure size 432x288 with 1 Axes>"
      ]
     },
     "metadata": {},
     "output_type": "display_data"
    }
   ],
   "source": [
    "x = np.array(np.arange(1, 6))\n",
    "y = np.array([4, 2, 1, 3, 7])\n",
    "\n",
    "plt.scatter(x, y);"
   ]
  },
  {
   "cell_type": "code",
   "execution_count": 31,
   "metadata": {},
   "outputs": [
    {
     "data": {
      "image/png": "[encoded data removed]",
      "text/plain": [
       "<Figure size 432x288 with 1 Axes>"
      ]
     },
     "metadata": {},
     "output_type": "display_data"
    }
   ],
   "source": [
    "X = x[:, np.newaxis]\n",
    "model = LinearRegression().fit(X, y)\n",
    "yfit = model.predict(X)\n",
    "plt.scatter(x, y)\n",
    "plt.plot(x, yfit);"
   ]
  },
  {
   "cell_type": "markdown",
   "metadata": {},
   "source": [
    "Очевидно, что необходимо использовать более сложную модель. Сделать это можно путем преобразования данных, добавив дополнительные столбцы признаков для увеличения гибкости модели.\n",
    "\n",
    "Добавить в данные полиноминальные признаки модно следующи образом:"
   ]
  },
  {
   "cell_type": "code",
   "execution_count": 32,
   "metadata": {},
   "outputs": [
    {
     "name": "stdout",
     "output_type": "stream",
     "text": [
      "[[ 1.  1.]\n",
      " [ 2.  4.]\n",
      " [ 3.  9.]\n",
      " [ 4. 16.]\n",
      " [ 5. 25.]]\n"
     ]
    }
   ],
   "source": [
    "from sklearn.preprocessing import PolynomialFeatures\n",
    "poly = PolynomialFeatures(degree=2, include_bias=False)\n",
    "X2 = poly.fit_transform(X)\n",
    "print(X2)"
   ]
  },
  {
   "cell_type": "markdown",
   "metadata": {},
   "source": [
    "В матрице производных признаков один столбец соответствует $x$, второй - $x^2$. Расчет линейной регрессии для этих данных позволяет получить намного лучшую модель."
   ]
  },
  {
   "cell_type": "code",
   "execution_count": 33,
   "metadata": {},
   "outputs": [
    {
     "data": {
      "image/png": "[encoded data removed]",
      "text/plain": [
       "<Figure size 432x288 with 1 Axes>"
      ]
     },
     "metadata": {},
     "output_type": "display_data"
    }
   ],
   "source": [
    "model = LinearRegression().fit(X2, y)\n",
    "yfit = model.predict(X2)\n",
    "plt.scatter(X, y)\n",
    "plt.plot(x, yfit);"
   ]
  },
  {
   "cell_type": "markdown",
   "metadata": {},
   "source": [
    "Идея улучшения модели путем не изменения самой модели, а преобразования входных данных является базовой для многих более продвинутых методов машинного обучения. Эта идея обсуждается в разделе по изучению Линейной регрессии. В общем случае это путь к набору обладающих огромными возможностями методик, изветсных под названием ***Ядерные методы*** (kernel methods), которые мы рассмотрим в разделе про Метод опорных векторов."
   ]
  },
  {
   "cell_type": "markdown",
   "metadata": {},
   "source": [
    "### Внесение отсутствующих данных"
   ]
  },
  {
   "cell_type": "code",
   "execution_count": 34,
   "metadata": {},
   "outputs": [],
   "source": [
    "from numpy import nan \n",
    "X = np.array([[nan, 0,   3],\n",
    "              [3,   7,   9],\n",
    "              [3,   5,   2],\n",
    "              [4, nan,   6],\n",
    "              [8,   8,   1]])\n",
    "y = np.array([14, 16, -1, 8, -5])"
   ]
  },
  {
   "cell_type": "markdown",
   "metadata": {},
   "source": [
    "При использовании для подобных данных типичной модели машинного обучения необходимо сначала заменить отсутствующие данные каким, либо подходящим значением.\n",
    "\n",
    "Это действие называется *заполнением* (imputation) пропущенных значений, и методики варьируются от простых(заполнение средним значением по столбцу), до сложных(с использованием востановления матриц(matrix completion) или ошибкоустойчивого алгоритма для обработки подобных данных)\n",
    "\n",
    "Для реализации стандартного подхода заполнения пропущенных значений(Среднее, медиана и т.п.) библиотека scikit-learn предоставляет класс Imputer."
   ]
  },
  {
   "cell_type": "code",
   "execution_count": 35,
   "metadata": {},
   "outputs": [
    {
     "data": {
      "text/plain": [
       "array([[4.5, 0. , 3. ],\n",
       "       [3. , 7. , 9. ],\n",
       "       [3. , 5. , 2. ],\n",
       "       [4. , 5. , 6. ],\n",
       "       [8. , 8. , 1. ]])"
      ]
     },
     "execution_count": 35,
     "metadata": {},
     "output_type": "execute_result"
    }
   ],
   "source": [
    "from sklearn.preprocessing import Imputer\n",
    "imp = Imputer(strategy='mean')\n",
    "X2 = imp.fit_transform(X)\n",
    "X2"
   ]
  },
  {
   "cell_type": "code",
   "execution_count": 36,
   "metadata": {},
   "outputs": [
    {
     "data": {
      "text/plain": [
       "array([13.14869292, 14.3784627 , -1.15539732, 10.96606197, -5.33782027])"
      ]
     },
     "execution_count": 36,
     "metadata": {},
     "output_type": "execute_result"
    }
   ],
   "source": [
    "# Теперь наши данные в которых пропущенные значения заменены на средние по столбцу можно передать модели\n",
    "model = LinearRegression().fit(X2, y)\n",
    "model.predict(X2)"
   ]
  },
  {
   "cell_type": "markdown",
   "metadata": {},
   "source": [
    "### Конвейеры признаков"
   ]
  },
  {
   "cell_type": "markdown",
   "metadata": {},
   "source": [
    "Может быстро надоесть выполнять каждый раз одни и те же преобразования вручную. Например нам может понадобиться выполнять подряд следующие шаги:\n",
    "1. Внести вместо отсутствующих данных средние значения.\n",
    "2. Преобразовать признаки в квадратичные.\n",
    "3. Обучить модель линейной регрессии.\n",
    "\n",
    "Для организации поотоковой обработки конвейера в библиотеке Scikit-learn есть объект конвейера:"
   ]
  },
  {
   "cell_type": "code",
   "execution_count": 37,
   "metadata": {},
   "outputs": [],
   "source": [
    "from sklearn.pipeline import make_pipeline\n",
    "\n",
    "model = make_pipeline(Imputer(strategy='mean'),\n",
    "                      PolynomialFeatures(degree=2),\n",
    "                      LinearRegression())"
   ]
  },
  {
   "cell_type": "code",
   "execution_count": 42,
   "metadata": {},
   "outputs": [
    {
     "name": "stdout",
     "output_type": "stream",
     "text": [
      "[14 16 -1  8 -5]\n",
      "[14. 16. -1.  8. -5.]\n"
     ]
    }
   ],
   "source": [
    "# Этот конвейер выглядит и функционирует аналогично обычному объекту Scikit-learn\n",
    "model.fit(X, y)\n",
    "print(y)\n",
    "print(model.predict(X))\n",
    "# Проверяли на той же модели что и обучали) просто так."
   ]
  }
 ],
 "metadata": {
  "kernelspec": {
   "display_name": "Python 3",
   "language": "python",
   "name": "python3"
  },
  "language_info": {
   "codemirror_mode": {
    "name": "ipython",
    "version": 3
   },
   "file_extension": ".py",
   "mimetype": "text/x-python",
   "name": "python",
   "nbconvert_exporter": "python",
   "pygments_lexer": "ipython3",
   "version": "3.6.5"
  }
 },
 "nbformat": 4,
 "nbformat_minor": 2
}
