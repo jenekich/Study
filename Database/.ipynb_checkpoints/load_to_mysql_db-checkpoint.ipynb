{
 "cells": [
  {
   "cell_type": "code",
   "execution_count": 2,
   "metadata": {},
   "outputs": [],
   "source": [
    "import sqlalchemy as sa\n",
    "import pandas as pd\n",
    "import os"
   ]
  },
  {
   "cell_type": "code",
   "execution_count": 8,
   "metadata": {},
   "outputs": [],
   "source": [
    "path = 'C:\\\\P'\n",
    "filepath = os.path.join(path, 'my.txt')\n",
    "with open(filepath, 'r') as f:\n",
    "    password = f.read()"
   ]
  },
  {
   "cell_type": "code",
   "execution_count": 24,
   "metadata": {},
   "outputs": [],
   "source": [
    "engine = sa.create_engine(\n",
    "                \"mysql://py:{}@localhost/orders?use_unicode=1&charset=utf8mb4\".format(password),\n",
    "                isolation_level=\"READ UNCOMMITTED\",\n",
    "                convert_unicode=True,\n",
    "                encoding='utf8'\n",
    "            )"
   ]
  },
  {
   "cell_type": "code",
   "execution_count": 25,
   "metadata": {},
   "outputs": [],
   "source": [
    "connection = engine.connect()\n",
    "metadata = sa.MetaData()\n",
    "census = sa.Table('заказы', metadata, autoload=True, autoload_with=engine)"
   ]
  },
  {
   "cell_type": "code",
   "execution_count": 26,
   "metadata": {},
   "outputs": [
    {
     "data": {
      "text/plain": [
       "['\\u2116\\u0417\\u0430\\u043a\\u0430\\u0437\\u0430',\n",
       " '\\u0410\\u0440\\u0442\\u0438\\u043a\\u0443\\u043b',\n",
       " '\\u0412\\u044b\\u0440\\u0443\\u0447\\u043a\\u0430']"
      ]
     },
     "execution_count": 26,
     "metadata": {},
     "output_type": "execute_result"
    }
   ],
   "source": [
    "census.columns.keys()"
   ]
  }
 ],
 "metadata": {
  "kernelspec": {
   "display_name": "Python 3",
   "language": "python",
   "name": "python3"
  },
  "language_info": {
   "codemirror_mode": {
    "name": "ipython",
    "version": 3
   },
   "file_extension": ".py",
   "mimetype": "text/x-python",
   "name": "python",
   "nbconvert_exporter": "python",
   "pygments_lexer": "ipython3",
   "version": "3.6.5"
  }
 },
 "nbformat": 4,
 "nbformat_minor": 2
}
