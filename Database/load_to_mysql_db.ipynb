{
 "cells": [
  {
   "cell_type": "code",
   "execution_count": 1,
   "metadata": {},
   "outputs": [],
   "source": [
    "import sqlalchemy as sa\n",
    "import pandas as pd\n",
    "import os"
   ]
  },
  {
   "cell_type": "code",
   "execution_count": 2,
   "metadata": {},
   "outputs": [],
   "source": [
    "path = 'C:\\\\P'\n",
    "filepath = os.path.join(path, 'my.txt')\n",
    "with open(filepath, 'r') as f:\n",
    "    password = f.read()"
   ]
  },
  {
   "cell_type": "code",
   "execution_count": 19,
   "metadata": {},
   "outputs": [],
   "source": [
    "engine = sa.create_engine(\n",
    "                \"mysql+mysqldb://py:{}@localhost/orders?charset=utf8mb4&use_unicode=True\".format(password)\n",
    "                ,convert_unicode=True\n",
    "                # ,isolation_level=\"READ UNCOMMITTED\"\n",
    "                #,encoding='utf-8'\n",
    "            )\n",
    "connection = engine.connect()"
   ]
  },
  {
   "cell_type": "markdown",
   "metadata": {},
   "source": [
    "### sqlalchemy.MetaData"
   ]
  },
  {
   "cell_type": "markdown",
   "metadata": {},
   "source": [
    "https://docs.sqlalchemy.org/en/13/core/metadata.html"
   ]
  },
  {
   "cell_type": "code",
   "execution_count": 40,
   "metadata": {},
   "outputs": [],
   "source": [
    "metadata = sa.MetaData()"
   ]
  },
  {
   "cell_type": "code",
   "execution_count": 41,
   "metadata": {},
   "outputs": [],
   "source": [
    "for t in metadata.sorted_tables:\n",
    "    print(t.name)"
   ]
  },
  {
   "cell_type": "code",
   "execution_count": 48,
   "metadata": {},
   "outputs": [],
   "source": [
    "orders = sa.Table('заказы', metadata, autoload_with=engine, autoload=True\n",
    "                  # ,mysql_charset='utf8mb4'\n",
    "                  # ,mysql_keyword_name='utf8mb4'\n",
    "                  # ,mysql_index_directory='utf8mb4'\n",
    "                  # ,mysql_engine='InnoDB'\n",
    "                 )"
   ]
  },
  {
   "cell_type": "code",
   "execution_count": 47,
   "metadata": {},
   "outputs": [
    {
     "data": {
      "text/plain": [
       "['\\u2116\\u0417\\u0430\\u043a\\u0430\\u0437\\u0430',\n",
       " '\\u0410\\u0440\\u0442\\u0438\\u043a\\u0443\\u043b',\n",
       " '\\u0412\\u044b\\u0440\\u0443\\u0447\\u043a\\u0430']"
      ]
     },
     "execution_count": 47,
     "metadata": {},
     "output_type": "execute_result"
    }
   ],
   "source": [
    "# Плохая кодировка выходит\n",
    "orders.columns.keys()"
   ]
  },
  {
   "cell_type": "code",
   "execution_count": 29,
   "metadata": {
    "scrolled": true
   },
   "outputs": [
    {
     "name": "stdout",
     "output_type": "stream",
     "text": [
      "№Заказа\n",
      "Артикул\n",
      "Выручка\n"
     ]
    }
   ],
   "source": [
    "# Через принт все норм\n",
    "for c in orders.columns:\n",
    "    print(c.key)"
   ]
  },
  {
   "cell_type": "code",
   "execution_count": 43,
   "metadata": {},
   "outputs": [
    {
     "name": "stdout",
     "output_type": "stream",
     "text": [
      "№Заказа\n",
      "Артикул\n",
      "Выручка\n"
     ]
    }
   ],
   "source": [
    "# Даже так\n",
    "for k in orders.columns.keys():\n",
    "    print(k)"
   ]
  },
  {
   "cell_type": "code",
   "execution_count": 45,
   "metadata": {},
   "outputs": [
    {
     "data": {
      "text/plain": [
       "'Артикул'"
      ]
     },
     "execution_count": 45,
     "metadata": {},
     "output_type": "execute_result"
    }
   ],
   "source": [
    "# Можно вручную поменять кодировку\n",
    "orders.columns.keys()[1].encode().decode('utf-8')"
   ]
  },
  {
   "cell_type": "code",
   "execution_count": 37,
   "metadata": {},
   "outputs": [
    {
     "name": "stdout",
     "output_type": "stream",
     "text": [
      "заказы\n"
     ]
    }
   ],
   "source": [
    "print(metadata.tables['заказы'])"
   ]
  },
  {
   "cell_type": "code",
   "execution_count": 13,
   "metadata": {
    "scrolled": true
   },
   "outputs": [
    {
     "data": {
      "text/plain": [
       "[(1, 1, 140),\n",
       " (1, 2, 70),\n",
       " (1, 3, 40),\n",
       " (2, 2, 120),\n",
       " (2, 3, 10),\n",
       " (3, 1, 150),\n",
       " (3, 4, 70),\n",
       " (3, 5, 20),\n",
       " (4, 3, 10),\n",
       " (4, 5, 60),\n",
       " (4, 6, 20),\n",
       " (5, 1, 10),\n",
       " (5, 3, 10),\n",
       " (5, 5, 60),\n",
       " (5, 6, 50),\n",
       " (6, 3, 110),\n",
       " (6, 4, 40),\n",
       " (7, 2, 30),\n",
       " (8, 6, 10)]"
      ]
     },
     "execution_count": 13,
     "metadata": {},
     "output_type": "execute_result"
    }
   ],
   "source": [
    "engine.execute(\"SELECT * FROM заказы\").fetchall()"
   ]
  }
 ],
 "metadata": {
  "kernelspec": {
   "display_name": "Python 3",
   "language": "python",
   "name": "python3"
  },
  "language_info": {
   "codemirror_mode": {
    "name": "ipython",
    "version": 3
   },
   "file_extension": ".py",
   "mimetype": "text/x-python",
   "name": "python",
   "nbconvert_exporter": "python",
   "pygments_lexer": "ipython3",
   "version": "3.6.5"
  }
 },
 "nbformat": 4,
 "nbformat_minor": 2
}
